{
 "cells": [
  {
   "cell_type": "code",
   "execution_count": 1,
   "id": "0ced2216-5bdb-4ad7-b9ba-a45fdb2f8b22",
   "metadata": {},
   "outputs": [
    {
     "data": {
      "text/plain": [
       "True"
      ]
     },
     "execution_count": 1,
     "metadata": {},
     "output_type": "execute_result"
    }
   ],
   "source": [
    "import random\n",
    "import sys\n",
    "import gc\n",
    "import re\n",
    "import time\n",
    "import warnings\n",
    "warnings.filterwarnings('ignore')\n",
    "\n",
    "import numpy as np\n",
    "import pandas as pd\n",
    "import matplotlib.pyplot as plt\n",
    "\n",
    "from bs4 import BeautifulSoup\n",
    "from tqdm import tqdm\n",
    "\n",
    "from sklearn.model_selection import train_test_split\n",
    "from sklearn.decomposition import PCA, SparsePCA, LatentDirichletAllocation, TruncatedSVD # aka LSA\n",
    "from sklearn.preprocessing import *\n",
    "\n",
    "\n",
    "from sklearn.feature_extraction.text import CountVectorizer, TfidfVectorizer\n",
    "from sklearn.metrics import * \n",
    "\n",
    "\n",
    "from sklearn.neural_network import MLPClassifier\n",
    "from sklearn.ensemble import BaggingClassifier # will not work for multi-label\n",
    "from sklearn.ensemble import RandomForestClassifier, ExtraTreesClassifier\n",
    "from sklearn.neighbors import RadiusNeighborsClassifier\n",
    "from sklearn.tree import ExtraTreeClassifier as ET\n",
    "from sklearn.tree import DecisionTreeClassifier\n",
    "from sklearn.neighbors import KNeighborsClassifier\n",
    "\n",
    "from tensorflow.keras.preprocessing.text import Tokenizer\n",
    "from tensorflow.keras.preprocessing.sequence import pad_sequences\n",
    "\n",
    "from IPython.core.interactiveshell import InteractiveShell\n",
    "InteractiveShell.ast_node_interactivity = \"all\"\n",
    "\n",
    "import torch\n",
    "torch.cuda.is_available()"
   ]
  },
  {
   "cell_type": "markdown",
   "id": "a4e44821",
   "metadata": {},
   "source": [
    "# Start\n",
    "> See other notebook for preprocessing, we start up loading proprocessed CSVs "
   ]
  },
  {
   "cell_type": "code",
   "execution_count": 2,
   "id": "9fc863f6",
   "metadata": {},
   "outputs": [
    {
     "data": {
      "text/html": [
       "<div>\n",
       "<style scoped>\n",
       "    .dataframe tbody tr th:only-of-type {\n",
       "        vertical-align: middle;\n",
       "    }\n",
       "\n",
       "    .dataframe tbody tr th {\n",
       "        vertical-align: top;\n",
       "    }\n",
       "\n",
       "    .dataframe thead th {\n",
       "        text-align: right;\n",
       "    }\n",
       "</style>\n",
       "<table border=\"1\" class=\"dataframe\">\n",
       "  <thead>\n",
       "    <tr style=\"text-align: right;\">\n",
       "      <th></th>\n",
       "      <th>Formatted</th>\n",
       "    </tr>\n",
       "    <tr>\n",
       "      <th>Id</th>\n",
       "      <th></th>\n",
       "    </tr>\n",
       "  </thead>\n",
       "  <tbody>\n",
       "    <tr>\n",
       "      <th>120</th>\n",
       "      <td>ASP NET Site Maps Has anyone got experience cr...</td>\n",
       "    </tr>\n",
       "  </tbody>\n",
       "</table>\n",
       "</div>"
      ],
      "text/plain": [
       "                                             Formatted\n",
       "Id                                                    \n",
       "120  ASP NET Site Maps Has anyone got experience cr..."
      ]
     },
     "execution_count": 2,
     "metadata": {},
     "output_type": "execute_result"
    },
    {
     "data": {
      "text/html": [
       "<div>\n",
       "<style scoped>\n",
       "    .dataframe tbody tr th:only-of-type {\n",
       "        vertical-align: middle;\n",
       "    }\n",
       "\n",
       "    .dataframe tbody tr th {\n",
       "        vertical-align: top;\n",
       "    }\n",
       "\n",
       "    .dataframe thead th {\n",
       "        text-align: right;\n",
       "    }\n",
       "</style>\n",
       "<table border=\"1\" class=\"dataframe\">\n",
       "  <thead>\n",
       "    <tr style=\"text-align: right;\">\n",
       "      <th></th>\n",
       "      <th>Tag</th>\n",
       "    </tr>\n",
       "    <tr>\n",
       "      <th>Id</th>\n",
       "      <th></th>\n",
       "    </tr>\n",
       "  </thead>\n",
       "  <tbody>\n",
       "    <tr>\n",
       "      <th>120</th>\n",
       "      <td>sql</td>\n",
       "    </tr>\n",
       "  </tbody>\n",
       "</table>\n",
       "</div>"
      ],
      "text/plain": [
       "     Tag\n",
       "Id      \n",
       "120  sql"
      ]
     },
     "execution_count": 2,
     "metadata": {},
     "output_type": "execute_result"
    }
   ],
   "source": [
    "questions = pd.read_csv('./data/questions_preprocessed.csv', index_col=0)\n",
    "tags = pd.read_csv('./data/tags_preprocessed.csv', index_col=0)\n",
    "# questions = pd.read_csv('./data/questions_preprocessed_min3.csv', index_col=0)\n",
    "# tags = pd.read_csv('./data/tags_preprocessed_min3.csv', index_col=0)\n",
    "questions.head(1)\n",
    "tags.head(1)"
   ]
  },
  {
   "cell_type": "code",
   "execution_count": null,
   "id": "c858e748",
   "metadata": {},
   "outputs": [],
   "source": [
    "# questions.loc[40142050].values\n",
    "# tags.loc[40142050]\n",
    "# len(X_train)\n",
    "# X_train[0]"
   ]
  },
  {
   "cell_type": "code",
   "execution_count": 4,
   "id": "1b829b52",
   "metadata": {},
   "outputs": [
    {
     "data": {
      "text/plain": [
       "MultiLabelBinarizer()"
      ]
     },
     "execution_count": 4,
     "metadata": {},
     "output_type": "execute_result"
    },
    {
     "name": "stderr",
     "output_type": "stream",
     "text": [
      "100%|██████████| 498996/498996 [02:02<00:00, 4078.28it/s]\n"
     ]
    }
   ],
   "source": [
    "from sklearn.preprocessing import MultiLabelBinarizer\n",
    "mlb = MultiLabelBinarizer()\n",
    "\n",
    "list_to_encode = tags.Tag.values\n",
    "mlb.fit(list_to_encode.reshape(-1,1))\n",
    "\n",
    "encoded = dict() \n",
    "for i in tqdm(tags.index.unique()): \n",
    "    input_ = tags.loc[i, 'Tag']\n",
    "    if (type(input_) is str):\n",
    "        input_ = np.array(input_)\n",
    "    else:   \n",
    "        input_ = input_.values\n",
    "    \n",
    "    ouput_ = mlb.transform(input_.reshape(-1,1))\n",
    "    ouput_ = list(np.sum(ouput_, axis=0))\n",
    "    encoded[i] = ouput_"
   ]
  },
  {
   "cell_type": "code",
   "execution_count": 5,
   "id": "2b23521a",
   "metadata": {},
   "outputs": [
    {
     "name": "stderr",
     "output_type": "stream",
     "text": [
      "100%|██████████| 498996/498996 [00:03<00:00, 166277.17it/s]"
     ]
    },
    {
     "name": "stdout",
     "output_type": "stream",
     "text": [
      "length is 498996\n"
     ]
    },
    {
     "name": "stderr",
     "output_type": "stream",
     "text": [
      "\n"
     ]
    }
   ],
   "source": [
    "list_of_questions = []\n",
    "list_of_tags = []\n",
    "for i in tqdm(questions['Formatted'].index.unique()):\n",
    "    list_of_questions.append(questions['Formatted'][i])\n",
    "    list_of_tags.append(encoded[i])\n",
    "\n",
    "print(f'length is {len(list_of_questions)}')"
   ]
  },
  {
   "cell_type": "code",
   "execution_count": 6,
   "id": "686ef682",
   "metadata": {},
   "outputs": [],
   "source": [
    "# some of list_of_questions are nan. Im not sure how to deal with this.\n",
    "import math\n",
    "bad_idx = [] # [idx for idx, i in enumerate(list_of_questions) if type(i) is not str if math.isnan(i)]\n",
    "for idx, i in enumerate(list_of_questions):\n",
    "    if type(i) is not str:\n",
    "        if math.isnan(i):\n",
    "            list_of_questions[idx] = list_of_questions[idx+1]\n",
    "            list_of_tags[idx] = list_of_tags[idx+1] "
   ]
  },
  {
   "cell_type": "code",
   "execution_count": 7,
   "id": "54677cc5",
   "metadata": {},
   "outputs": [
    {
     "name": "stdout",
     "output_type": "stream",
     "text": [
      "                     questions: 539.2 MiB\n",
      "                          tags: 86.9 MiB\n",
      "                       encoded: 20.0 MiB\n",
      "             list_of_questions:  4.0 MiB\n",
      "                  list_of_tags:  4.0 MiB\n",
      "                       SCORERS:  2.2 KiB\n",
      "                          tqdm:  2.0 KiB\n",
      "                           _i1:  1.7 KiB\n",
      "                 BeautifulSoup:  1.0 KiB\n",
      "                           PCA:  1.0 KiB\n"
     ]
    },
    {
     "data": {
      "text/plain": [
       "0"
      ]
     },
     "execution_count": 7,
     "metadata": {},
     "output_type": "execute_result"
    }
   ],
   "source": [
    "def sizeof_fmt(num, suffix='B'):\n",
    "    ''' by Fred Cirera,  https://stackoverflow.com/a/1094933/1870254, modified'''\n",
    "    for unit in ['','Ki','Mi','Gi']:\n",
    "        if abs(num) < 1024.0:\n",
    "            return \"%3.1f %s%s\" % (num, unit, suffix)\n",
    "        num /= 1024.0\n",
    "    \n",
    "\n",
    "for name, size in sorted(((name, sys.getsizeof(value)) for name, value in locals().items()), \n",
    "                         key= lambda x: -x[1])[:10]:\n",
    "    print(\"{:>30}: {:>8}\".format(name, sizeof_fmt(size)))\n",
    "\n",
    "gc.collect()"
   ]
  },
  {
   "cell_type": "code",
   "execution_count": 8,
   "id": "8d6ab68c",
   "metadata": {},
   "outputs": [
    {
     "name": "stdout",
     "output_type": "stream",
     "text": [
      "Sample question: ASP NET Site Maps Has anyone got experience creating SQL based ASP NET site map providers ve got the default XML file web sitemap working properly with my Menu and SiteMapPath controls but ll need way for the users of my site to create and modify pages dynamically need to tie page viewing permissions into the standard ASP NET membership system as well \n",
      "\n",
      "Number of tags: 2\n"
     ]
    }
   ],
   "source": [
    "print(f'Sample question: {list_of_questions[0]}\\n')\n",
    "print(f'Number of tags: {sum(list_of_tags[0])}')"
   ]
  },
  {
   "cell_type": "markdown",
   "id": "fae36a3b",
   "metadata": {},
   "source": [
    "# Experiment 1: Encoding with Tokenizer, padding sequence"
   ]
  },
  {
   "cell_type": "code",
   "execution_count": 9,
   "id": "bb78749e",
   "metadata": {},
   "outputs": [],
   "source": [
    "X_train, X_test, y_train, y_test = train_test_split(list_of_questions, list_of_tags, test_size=0.2, random_state=42)\n",
    "\n",
    "y_train = np.asarray(y_train)\n",
    "for i in range(len(y_train)):\n",
    "    y_train[i] = np.array(y_train[i])\n",
    "    \n",
    "y_test = np.asarray(y_test)\n",
    "for i in range(len(y_test)):\n",
    "    y_test[i] = np.array(y_test[i])"
   ]
  },
  {
   "cell_type": "code",
   "execution_count": 10,
   "id": "77fa3086",
   "metadata": {},
   "outputs": [],
   "source": [
    "# uniqueWords = set() # same seed as list which we cast to set at end\n",
    "# for q in list_of_questions[:500000]:\n",
    "#     for word in q.split():\n",
    "#         uniqueWords.add(word.lower()) \n",
    "# 309411 unique words in first 500000 questions\n",
    "num_words = None"
   ]
  },
  {
   "cell_type": "code",
   "execution_count": 11,
   "id": "06292bb0",
   "metadata": {},
   "outputs": [],
   "source": [
    "# # ref https://stackabuse.com/python-for-nlp-multi-label-text-classification-with-keras/\n",
    "tokenizer = Tokenizer(char_level=False, num_words=num_words, filters='!\"()*+,-./:;<=>?@[\\\\]^_`{|}~\\t\\n') # #$%&\n",
    "tokenizer.fit_on_texts(X_train)\n",
    "X_train = tokenizer.texts_to_sequences(X_train)\n",
    "X_test = tokenizer.texts_to_sequences(X_test)\n",
    "\n",
    "vocab_size = len(tokenizer.word_index) + 1\n",
    "# vocab_size # 309411"
   ]
  },
  {
   "cell_type": "code",
   "execution_count": 12,
   "id": "de9088c7",
   "metadata": {},
   "outputs": [
    {
     "name": "stdout",
     "output_type": "stream",
     "text": [
      "We need to get the pad_sequences's max length. perhaps it's wise to chose the median + IQR*1.5, 167.399044579605, \n",
      "IQR: 122 | mean: 167.40 | median: 122.0 | upper bound: 167.399044579605\n"
     ]
    },
    {
     "data": {
      "image/png": "[encoded data removed]",
      "text/plain": [
       "<Figure size 432x288 with 1 Axes>"
      ]
     },
     "metadata": {
      "needs_background": "light"
     },
     "output_type": "display_data"
    }
   ],
   "source": [
    "sorted_lengths = np.sort(np.asarray([len(i) for i in X_train]))\n",
    "IQR = sorted_lengths[3*len(sorted_lengths)//4] - sorted_lengths[1*len(sorted_lengths)//4]\n",
    "upper_bound = np.mean(sorted_lengths)\n",
    "# upper_bound = np.median(sorted_lengths) + IQR*1.5\n",
    "\n",
    "print(f\"We need to get the pad_sequences's max length. perhaps it's wise to chose the median + IQR*1.5, {upper_bound}, \")\n",
    "print(f'IQR: {IQR} | mean: {np.mean(sorted_lengths):.2f} | median: {np.median(sorted_lengths)} | upper bound: {upper_bound}')\n",
    "\n",
    "_ = plt.hist(sorted_lengths, bins=20)\n",
    "_ = plt.vlines(upper_bound, -5000, 2000, linestyles='dashed', colors='r', label='Upper Bound')"
   ]
  },
  {
   "cell_type": "code",
   "execution_count": 14,
   "id": "fa8ee650",
   "metadata": {},
   "outputs": [],
   "source": [
    "maxlen = min(int(upper_bound), 200)\n",
    "X_train = pad_sequences(X_train, padding='post', truncating='post', maxlen=maxlen)\n",
    "X_test = pad_sequences(X_test,   padding='post', truncating='post', maxlen=maxlen)"
   ]
  },
  {
   "cell_type": "code",
   "execution_count": 15,
   "id": "dff21cc8",
   "metadata": {},
   "outputs": [
    {
     "name": "stdout",
     "output_type": "stream",
     "text": [
      "-5.79% change in of vocab size with lemmatization on 1 precent of data\n"
     ]
    }
   ],
   "source": [
    "# len(tokenizer.word_index.keys())\n",
    "## dont on `X_train` from test_size=0.99 \n",
    "# with    lemmatization 35659\n",
    "# without lemmatization 37851 \n",
    "\n",
    "print(f'{100*(35659-37851)/37851:.2f}% change in of vocab size with lemmatization on 1 precent of data')"
   ]
  },
  {
   "cell_type": "code",
   "execution_count": 16,
   "id": "0f7dc6bb",
   "metadata": {},
   "outputs": [],
   "source": [
    "def print_score(y_test, y_pred, clf=None):\n",
    "    with warnings.catch_warnings():\n",
    "        # print(\"Clf: \", clf.__class__.__name__)\n",
    "        print(f\"Accuracy score: {accuracy_score(y_true=y_test, y_pred=y_pred)}\")\n",
    "        print(f\"Recall score: {recall_score(y_true=y_test, y_pred=y_pred, average='weighted')}\")\n",
    "        print(f\"Precision score: {precision_score(y_true=y_test, y_pred=y_pred, average='weighted')}\")\n",
    "        f1 = f1_score(y_true=y_test, y_pred=y_pred, average='weighted')\n",
    "        print(f\"F1 score: {f1}\")\n",
    "        return f1"
   ]
  },
  {
   "cell_type": "markdown",
   "id": "801f2a9e",
   "metadata": {},
   "source": [
    "## Experiment 1 assessment - sklearn"
   ]
  },
  {
   "cell_type": "code",
   "execution_count": 17,
   "id": "ba5fd959",
   "metadata": {},
   "outputs": [
    {
     "name": "stdout",
     "output_type": "stream",
     "text": [
      "Clf:  ExtraTreesClassifier\n",
      "Accuracy score: 7.014028056112224e-05\n",
      "Recall score: 9.871059288049849e-05\n",
      "Precision score: 0.1398204701091986\n",
      "F1 score: 0.0001972268287894712\n",
      "Train score: 0.9999899798595177\n",
      "Test score:  7.014028056112224e-05\n",
      "Time taken for ExtraTreesClassifier was 242.43\n",
      "\n",
      "\n",
      "Clf:  RandomForestClassifier\n",
      "Accuracy score: 0.0010320641282565131\n",
      "Recall score: 0.0010488000493552964\n",
      "Precision score: 0.20879851674301186\n",
      "F1 score: 0.002076166706540318\n",
      "Train score: 0.879317428030341\n",
      "Test score:  0.0010320641282565131\n",
      "Time taken for RandomForestClassifier was 326.77\n",
      "\n",
      "\n"
     ]
    }
   ],
   "source": [
    "clfs = []\n",
    "# clfs.append(DecisionTreeClassifier(random_state=42))\n",
    "clfs.append(ExtraTreesClassifier(n_estimators=15, random_state=42, n_jobs=-1))\n",
    "clfs.append(RandomForestClassifier(n_estimators=15, random_state=42, n_jobs=-1))\n",
    "# clfs.append(RadiusNeighborsClassifier(n_jobs=-1)) # takes a while\n",
    "# clfs.append(KNeighborsClassifier(n_neighbors=10, n_jobs=-1)) # untested too long\n",
    "\n",
    "for clf in clfs:\n",
    "    start = time.time()\n",
    "    _ = gc.collect()\n",
    "    _ = clf.fit(X_train, y_train)\n",
    "    print(\"Clf: \", clf.__class__.__name__)\n",
    "    F1 = print_score(y_test, clf.predict(X_test), clf)\n",
    "    print(f'Train score: {clf.score(X_train, y_train)}')\n",
    "    print(f'Test score:  {clf.score(X_test, y_test)}')\n",
    "\n",
    "    print(f'Time taken for {clf.__class__.__name__} was {time.time()-start:.2f}\\n\\n')\n",
    "    \n"
   ]
  },
  {
   "cell_type": "code",
   "execution_count": 18,
   "id": "02e68703",
   "metadata": {},
   "outputs": [
    {
     "name": "stdout",
     "output_type": "stream",
     "text": [
      "Clf:  MLPClassifier\n",
      "Accuracy score: 0.0\n",
      "Recall score: 0.0\n",
      "Precision score: 0.0\n",
      "F1 score: 0.0\n",
      "Train score: 0.0\n",
      "Test score:  0.0\n",
      "Time taken for MLPClassifier was 199.30\n"
     ]
    },
    {
     "data": {
      "text/plain": [
       "<Figure size 576x216 with 0 Axes>"
      ]
     },
     "execution_count": 18,
     "metadata": {},
     "output_type": "execute_result"
    },
    {
     "data": {
      "text/plain": [
       "[<matplotlib.lines.Line2D at 0x26362a461c0>]"
      ]
     },
     "execution_count": 18,
     "metadata": {},
     "output_type": "execute_result"
    },
    {
     "data": {
      "image/png": "[encoded data removed]",
      "text/plain": [
       "<Figure size 576x216 with 1 Axes>"
      ]
     },
     "metadata": {
      "needs_background": "light"
     },
     "output_type": "display_data"
    }
   ],
   "source": [
    "start = time.time()\n",
    "\n",
    "clf = MLPClassifier(hidden_layer_sizes=(200, 100), random_state=42, max_iter=60)\n",
    "\n",
    "clf = clf.fit(X_train, y_train)\n",
    "print(\"Clf: \", clf.__class__.__name__)\n",
    "F1 = print_score(y_test, clf.predict(X_test), clf)\n",
    "print(f'Train score: {clf.score(X_train, y_train)}')\n",
    "print(f'Test score:  {clf.score(X_test, y_test)}')\n",
    "    \n",
    "print(f'Time taken for {clf.__class__.__name__} was {time.time()-start:.2f}')\n",
    "\n",
    "plt.figure(figsize=(8, 3))\n",
    "plt.plot(clf.loss_curve_)"
   ]
  },
  {
   "cell_type": "markdown",
   "id": "65bb1c55",
   "metadata": {},
   "source": [
    "### In depth Eval of MLPClassifier, via argmax of `clf.predict_proba`"
   ]
  },
  {
   "cell_type": "code",
   "execution_count": 19,
   "id": "2c98c185",
   "metadata": {},
   "outputs": [
    {
     "name": "stdout",
     "output_type": "stream",
     "text": [
      "Accuracy score: 0.05029058116232465\n",
      "Recall score: 0.129113455487692\n",
      "Precision score: 0.0484842678766208\n",
      "F1 score: 0.048090358807756674\n",
      "\n",
      "y_pred: java\n",
      "y_test: java\n",
      "\n",
      "\n",
      "y_pred: c#, java\n",
      "y_test: java, swing\n",
      "\n",
      "\n",
      "y_pred: c#, java\n",
      "y_test: html5, javascript\n",
      "\n",
      "\n",
      "y_pred: c#, java\n",
      "y_test: mysql, php\n",
      "\n",
      "\n",
      "y_pred: java\n",
      "y_test: spring\n",
      "\n",
      "\n"
     ]
    }
   ],
   "source": [
    "y_pred = clf.predict_proba(X_test)\n",
    "\n",
    "y_pred_same_number_of_tags = [] # if average tags is 2.5, we are at a disadvantage if we do 2 or 3 tags.\n",
    "for i in range(len(y_pred)):  \n",
    "    best = y_pred[i].argsort()\n",
    "    y_pred_ = np.zeros(y_pred.shape[1])\n",
    "    number_of_tags = np.sum(y_test[i])\n",
    "    y_pred_[best[-number_of_tags:]] = 1\n",
    "    y_pred_same_number_of_tags.append(y_pred_)\n",
    "    \n",
    "_ = print_score(y_test, y_pred_same_number_of_tags) \n",
    "print(\"\")\n",
    "\n",
    "for i in range(5): # how many examples to print\n",
    "    idx = np.random.randint(0, len(y_pred))\n",
    "    print(\"y_pred:\",', '.join(mlb.inverse_transform(y_pred_same_number_of_tags[idx].reshape(1,-1))[0]))\n",
    "    print(\"y_test:\",', '.join(mlb.inverse_transform(y_test[idx].reshape(1,-1))[0]))\n",
    "    print('\\n')"
   ]
  },
  {
   "cell_type": "code",
   "execution_count": 20,
   "id": "8e8e3fc7",
   "metadata": {},
   "outputs": [],
   "source": [
    "## Dim reduction was pointless\n",
    "\n",
    "# print(f'shape of X_train: {X_train.shape}')\n",
    "\n",
    "# # from sklearn.decomposition import LatentDirichletAllocation # took ovr 10 mins\n",
    "# # dcomp = LatentDirichletAllocation(n_components=100, random_state=42)\n",
    "\n",
    "# dcomp = PCA(n_components=100, random_state=42) # , iterated_power=30\n",
    "# dcomp.fit(X_train)\n",
    "# print(f'explained variance ratio: {sum(dcomp.explained_variance_ratio_):.2f}')\n",
    "# X_train_transformed = dcomp.transform(X_train)\n",
    "# X_test_transformed = dcomp.transform(X_test)\n",
    "\n",
    "# print(f'shape of X_train_transformed: {X_train_transformed.shape}')\n",
    "\n",
    "# start = time.time()\n",
    "\n",
    "# clf = MLPClassifier(random_state=42, max_iter=140)\n",
    "# clf = clf.fit(X_train_transformed, y_train)\n",
    "# print(\"Clf: \", clf.__class__.__name__)\n",
    "\n",
    "# print_score(y_test, clf.predict(X_test_transformed), clf)\n",
    "# print(f'Train score: {clf.score(X_train_transformed, y_train)}')\n",
    "# print(f'Test score:  {clf.score(X_test_transformed, y_test)}')\n",
    "    \n",
    "# print(f'Time taken for {clf.__class__.__name__} was {time.time()-start:.2f}')"
   ]
  },
  {
   "cell_type": "markdown",
   "id": "1a0d90b8",
   "metadata": {},
   "source": [
    "## Experiment 1 assessment - Basic LSTM"
   ]
  },
  {
   "cell_type": "code",
   "execution_count": 21,
   "id": "b9b3cdb6",
   "metadata": {},
   "outputs": [],
   "source": [
    "vocab_size = len(tokenizer.word_index) + 1\n",
    "target_size = len(mlb.classes_)\n",
    "embedding_dim = 300"
   ]
  },
  {
   "cell_type": "code",
   "execution_count": 41,
   "id": "4273eded",
   "metadata": {},
   "outputs": [
    {
     "name": "stdout",
     "output_type": "stream",
     "text": [
      "portion of words in embedding: 0.2708\n"
     ]
    }
   ],
   "source": [
    "## Build glove embdedding matrix\n",
    "embeddings_dictionary = dict()\n",
    "# glove_file = open('.\\data\\glove.42B.300d.txt', encoding=\"utf8\")\n",
    "glove_file = open('C:\\\\glove.42B.300d.txt', encoding=\"utf8\")\n",
    "for line in glove_file: # longer, by far\n",
    "    records = line.split()\n",
    "    word = records[0]\n",
    "    vector_dimensions = np.asarray(records[1:], dtype='float32')\n",
    "    embeddings_dictionary[word] = vector_dimensions\n",
    "glove_file.close()\n",
    "\n",
    "num_words_in_embedding = 0\n",
    "# embedding_matrix = np.zeros((vocab_size, embedding_dim))\n",
    "embedding_matrix = np.random.normal(scale=0.6, size=((vocab_size, embedding_dim)))\n",
    "for word, index in tokenizer.word_index.items():\n",
    "    embedding_vector = embeddings_dictionary.get(word)\n",
    "    if embedding_vector is not None:\n",
    "        num_words_in_embedding += 1\n",
    "        embedding_matrix[index] = embedding_vector\n",
    "        \n",
    "print(f'portion of words in embedding: {num_words_in_embedding/vocab_size:.4f}')"
   ]
  },
  {
   "cell_type": "code",
   "execution_count": 78,
   "id": "aeaa088e",
   "metadata": {},
   "outputs": [],
   "source": [
    "import tensorflow.keras as keras\n",
    "from tensorflow.keras.models import Sequential\n",
    "from tensorflow.keras.layers import *\n",
    "from keras.layers.embeddings import Embedding\n",
    "from tensorflow.keras.optimizers import *\n",
    "from tensorflow.keras.callbacks import ReduceLROnPlateau, ModelCheckpoint\n",
    "from tensorflow.keras.layers import Input\n",
    "# del model, opt, lr\n",
    "\n",
    "loss = []\n",
    "acc = []\n",
    "val_loss = []\n",
    "val_acc = []\n",
    "checkpoint_file = 'ModelCheckpoint.h5'\n"
   ]
  },
  {
   "cell_type": "code",
   "execution_count": 79,
   "id": "95bd83ad",
   "metadata": {},
   "outputs": [],
   "source": [
    "output_dim = mlb.classes_.shape[0]\n",
    "model = Sequential() ;_=gc.collect()\n",
    "model.add(Embedding(vocab_size, embedding_dim, weights=[embedding_matrix], input_length=maxlen, trainable=False))\n",
    "model.add((Bidirectional(LSTM(64, return_sequences=True))))\n",
    "model.add(Dropout(0.05)) # technically not appropriate for a LSTM. recc_dropout is not on CuDNN\n",
    "model.add(LSTM(128))\n",
    "model.add(Dense(128, activation='relu'))\n",
    "model.add(Dropout(0.2)) \n",
    "model.add(Dense(output_dim, activation='sigmoid')) # , activation='softmax')\n",
    "\n",
    "opt = Adam(learning_rate=0.003)\n",
    "\n",
    "model.compile(loss='binary_crossentropy', optimizer=opt, metrics=['acc']) # categorical_crossentropy\n",
    "lr = ReduceLROnPlateau(monitor='val_loss', factor=0.3, patience=2, verbose=1, mode='auto', min_delta=0.0001, cooldown=0, min_lr=0.00001)\n",
    "cp = ModelCheckpoint(filepath=checkpoint_file, monitor='val_acc', save_best_only=True)"
   ]
  },
  {
   "cell_type": "code",
   "execution_count": 80,
   "id": "1c478010",
   "metadata": {},
   "outputs": [
    {
     "name": "stdout",
     "output_type": "stream",
     "text": [
      "Epoch 1/20\n",
      "476/476 [==============================] - 25s 44ms/step - loss: 0.0814 - acc: 0.0678 - val_loss: 0.0728 - val_acc: 0.0773 - lr: 0.0030\n",
      "Epoch 2/20\n",
      "476/476 [==============================] - 19s 40ms/step - loss: 0.0719 - acc: 0.0869 - val_loss: 0.0667 - val_acc: 0.1552 - lr: 0.0030\n",
      "Epoch 3/20\n",
      "476/476 [==============================] - 20s 41ms/step - loss: 0.0569 - acc: 0.2938 - val_loss: 0.0452 - val_acc: 0.4245 - lr: 0.0030\n",
      "Epoch 4/20\n",
      "476/476 [==============================] - 19s 41ms/step - loss: 0.0416 - acc: 0.4828 - val_loss: 0.0369 - val_acc: 0.5135 - lr: 0.0030\n",
      "Epoch 5/20\n",
      "476/476 [==============================] - 20s 42ms/step - loss: 0.0352 - acc: 0.5484 - val_loss: 0.0326 - val_acc: 0.5550 - lr: 0.0030\n",
      "Epoch 6/20\n",
      "476/476 [==============================] - 19s 40ms/step - loss: 0.0318 - acc: 0.5770 - val_loss: 0.0309 - val_acc: 0.5613 - lr: 0.0030\n",
      "Epoch 7/20\n",
      "476/476 [==============================] - 20s 41ms/step - loss: 0.0298 - acc: 0.5921 - val_loss: 0.0302 - val_acc: 0.5705 - lr: 0.0030\n",
      "Epoch 8/20\n",
      "476/476 [==============================] - 20s 41ms/step - loss: 0.0285 - acc: 0.6009 - val_loss: 0.0296 - val_acc: 0.5711 - lr: 0.0030\n",
      "Epoch 9/20\n",
      "476/476 [==============================] - 20s 42ms/step - loss: 0.0273 - acc: 0.6085 - val_loss: 0.0291 - val_acc: 0.5756 - lr: 0.0030\n",
      "Epoch 10/20\n",
      "476/476 [==============================] - 16s 34ms/step - loss: 0.0263 - acc: 0.6169 - val_loss: 0.0289 - val_acc: 0.5741 - lr: 0.0030\n",
      "Epoch 11/20\n",
      "476/476 [==============================] - 16s 35ms/step - loss: 0.0254 - acc: 0.6249 - val_loss: 0.0294 - val_acc: 0.5756 - lr: 0.0030\n",
      "Epoch 12/20\n",
      "475/476 [============================>.] - ETA: 0s - loss: 0.0246 - acc: 0.6280\n",
      "Epoch 00012: ReduceLROnPlateau reducing learning rate to 0.0009000000078231095.\n",
      "476/476 [==============================] - 20s 42ms/step - loss: 0.0246 - acc: 0.6280 - val_loss: 0.0289 - val_acc: 0.5828 - lr: 0.0030\n",
      "Epoch 13/20\n",
      "476/476 [==============================] - 16s 33ms/step - loss: 0.0228 - acc: 0.6442 - val_loss: 0.0287 - val_acc: 0.5805 - lr: 9.0000e-04\n",
      "Epoch 14/20\n",
      "476/476 [==============================] - 16s 33ms/step - loss: 0.0221 - acc: 0.6507 - val_loss: 0.0291 - val_acc: 0.5777 - lr: 9.0000e-04\n",
      "Epoch 15/20\n",
      "476/476 [==============================] - ETA: 0s - loss: 0.0218 - acc: 0.6530\n",
      "Epoch 00015: ReduceLROnPlateau reducing learning rate to 0.00026999999536201356.\n",
      "476/476 [==============================] - 15s 32ms/step - loss: 0.0218 - acc: 0.6530 - val_loss: 0.0295 - val_acc: 0.5781 - lr: 9.0000e-04\n",
      "Epoch 16/20\n",
      "476/476 [==============================] - 16s 33ms/step - loss: 0.0210 - acc: 0.6608 - val_loss: 0.0297 - val_acc: 0.5806 - lr: 2.7000e-04\n",
      "Epoch 17/20\n",
      "475/476 [============================>.] - ETA: 0s - loss: 0.0208 - acc: 0.6620\n",
      "Epoch 00017: ReduceLROnPlateau reducing learning rate to 8.099999686237424e-05.\n",
      "476/476 [==============================] - 16s 34ms/step - loss: 0.0208 - acc: 0.6621 - val_loss: 0.0299 - val_acc: 0.5769 - lr: 2.7000e-04\n",
      "Epoch 18/20\n",
      "476/476 [==============================] - 16s 34ms/step - loss: 0.0205 - acc: 0.6633 - val_loss: 0.0301 - val_acc: 0.5805 - lr: 8.1000e-05\n",
      "Epoch 19/20\n",
      "475/476 [============================>.] - ETA: 0s - loss: 0.0205 - acc: 0.6662\n",
      "Epoch 00019: ReduceLROnPlateau reducing learning rate to 2.429999949526973e-05.\n",
      "476/476 [==============================] - 15s 32ms/step - loss: 0.0205 - acc: 0.6662 - val_loss: 0.0302 - val_acc: 0.5783 - lr: 8.1000e-05\n",
      "Epoch 20/20\n",
      "476/476 [==============================] - 15s 32ms/step - loss: 0.0204 - acc: 0.6659 - val_loss: 0.0302 - val_acc: 0.5799 - lr: 2.4300e-05\n"
     ]
    }
   ],
   "source": [
    "# model = keras.models.load_model(\"keras_lstm.h5\")\n",
    "# model.layers[0].trainable = True\n",
    "history = model.fit(X_train, y_train, validation_split=0.05, epochs=10, batch_size=256, verbose=1, callbacks=[lr, cp])\n",
    "loss.extend(history.history['loss'])\n",
    "acc.extend(history.history['acc'])\n",
    "val_loss.extend(history.history['val_loss'])\n",
    "val_acc.extend(history.history['val_acc'])"
   ]
  },
  {
   "cell_type": "code",
   "execution_count": 81,
   "id": "0e2a07e1",
   "metadata": {},
   "outputs": [],
   "source": [
    "# model.save(\"keras_lstm_min_3_score.h5\" )\n",
    "# model.save(\"keras_lstm_all_scores.h5\" )"
   ]
  },
  {
   "cell_type": "code",
   "execution_count": 82,
   "id": "04f9b990",
   "metadata": {},
   "outputs": [
    {
     "name": "stdout",
     "output_type": "stream",
     "text": [
      "Accuracy score: 0.6018110850897737\n",
      "Recall score: 0.7138925218138163\n",
      "Precision score: 0.709068864522389\n",
      "F1 score: 0.7091016493667925\n"
     ]
    }
   ],
   "source": [
    "def test_keras_model(print_sample=False, X_test=X_test, model=model, y_test=y_test, topN=2):\n",
    "    # y_pred = model.predict(X_test)\n",
    "    # for thres in range(3, 5):\n",
    "    #     print(f'rounding threshold: {thres/10}')\n",
    "    #     y_pred_ = np.array(np.array(y_pred) > thres/10, dtype=float)\n",
    "    #     _ = print_score(y_test, y_pred_)\n",
    "        # print('\\n')\n",
    "\n",
    "\n",
    "    ## y_pred = np.array(np.array(y_pred) > .3, dtype=float)\n",
    "    # topN = topN\n",
    "    # y_pred_top = np.zeros_like(y_pred)\n",
    "    # for i in range(y_pred.shape[0]):\n",
    "    #     best = y_pred[i].argsort()\n",
    "    #     y_pred_ = np.zeros(y_pred.shape[1])\n",
    "    #     y_pred_[best[-topN:]] = 1\n",
    "    #     y_pred_top[i] = y_pred_\n",
    "\n",
    "    # print(f'\\ntopN: {topN}')\n",
    "    # _ = print_score(y_test, y_pred_top)\n",
    "    \n",
    "    y_pred_same_number_of_tags = [] # if average tags is 2.5, we are at a disadvantage if we do 2 or 3 tags.\n",
    "    \n",
    "    for i in range(len(y_pred)):  \n",
    "        best = y_pred[i].argsort()\n",
    "        y_pred_ = np.zeros(y_pred.shape[1])\n",
    "        number_of_tags = np.sum(y_test[i])\n",
    "        y_pred_[best[-number_of_tags:]] = 1\n",
    "        y_pred_same_number_of_tags.append(y_pred_)\n",
    "        \n",
    "    _ = print_score(y_test, y_pred_same_number_of_tags) \n",
    "\n",
    "    # if print_sample:\n",
    "    for i in range(print_sample):\n",
    "        idx = np.random.randint(0, len(y_pred))\n",
    "        print(\"y_pred:\",', '.join(mlb.inverse_transform(y_pred_same_number_of_tags[idx].reshape(1,-1))[0]))\n",
    "        print(\"y_test:\",', '.join(mlb.inverse_transform(y_test[idx].reshape(1,-1))[0]))\n",
    "        print('\\n')\n",
    "\n",
    "test_keras_model(print_sample=0)"
   ]
  },
  {
   "cell_type": "code",
   "execution_count": 84,
   "id": "67eb7512",
   "metadata": {},
   "outputs": [
    {
     "name": "stdout",
     "output_type": "stream",
     "text": [
      "Epoch 1/4\n",
      "476/476 [==============================] - 17s 34ms/step - loss: 0.0203 - acc: 0.6657 - val_loss: 0.0302 - val_acc: 0.5792 - lr: 2.4300e-05\n",
      "Epoch 2/4\n",
      "476/476 [==============================] - 16s 34ms/step - loss: 0.0203 - acc: 0.6666 - val_loss: 0.0303 - val_acc: 0.5786 - lr: 2.4300e-05\n",
      "Epoch 3/4\n",
      "476/476 [==============================] - ETA: 0s - loss: 0.0203 - acc: 0.6660\n",
      "Epoch 00003: ReduceLROnPlateau reducing learning rate to 1e-05.\n",
      "476/476 [==============================] - 16s 34ms/step - loss: 0.0203 - acc: 0.6660 - val_loss: 0.0303 - val_acc: 0.5786 - lr: 2.4300e-05\n",
      "Epoch 4/4\n",
      "476/476 [==============================] - 16s 34ms/step - loss: 0.0203 - acc: 0.6675 - val_loss: 0.0303 - val_acc: 0.5785 - lr: 1.0000e-05\n"
     ]
    }
   ],
   "source": [
    "_=gc.collect()\n",
    "model.layers[0].trainable = True\n",
    "history = model.fit(X_train, y_train, validation_split=0.05, epochs=5, batch_size=256, verbose=1, callbacks=[lr, cp])\n",
    "# model.save(\"keras_lstm_min_3_score.h5\")\n",
    "\n",
    "loss.extend(history.history['loss'])\n",
    "acc.extend(history.history['acc'])\n",
    "val_loss.extend(history.history['val_loss'])\n",
    "val_acc.extend(history.history['val_acc'])"
   ]
  },
  {
   "cell_type": "code",
   "execution_count": 85,
   "id": "5d10cb97",
   "metadata": {},
   "outputs": [
    {
     "name": "stdout",
     "output_type": "stream",
     "text": [
      "Epoch 1/5\n",
      "1902/1902 [==============================] - 48s 25ms/step - loss: 0.0214 - acc: 0.6572 - val_loss: 0.0301 - val_acc: 0.5761 - lr: 5.0000e-04\n",
      "Epoch 2/5\n",
      "1902/1902 [==============================] - 49s 26ms/step - loss: 0.0209 - acc: 0.6605 - val_loss: 0.0304 - val_acc: 0.5744 - lr: 5.0000e-04\n",
      "Epoch 3/5\n",
      "1902/1902 [==============================] - ETA: 0s - loss: 0.0205 - acc: 0.6649\n",
      "Epoch 00003: ReduceLROnPlateau reducing learning rate to 0.0001500000071246177.\n",
      "1902/1902 [==============================] - 50s 26ms/step - loss: 0.0205 - acc: 0.6649 - val_loss: 0.0309 - val_acc: 0.5738 - lr: 5.0000e-04\n",
      "Epoch 4/5\n",
      "1902/1902 [==============================] - 48s 25ms/step - loss: 0.0197 - acc: 0.6699 - val_loss: 0.0312 - val_acc: 0.5741 - lr: 1.5000e-04\n",
      "Epoch 5/5\n",
      "1900/1902 [============================>.] - ETA: 0s - loss: 0.0195 - acc: 0.6716\n",
      "Epoch 00005: ReduceLROnPlateau reducing learning rate to 4.500000213738531e-05.\n",
      "1902/1902 [==============================] - 47s 25ms/step - loss: 0.0195 - acc: 0.6716 - val_loss: 0.0313 - val_acc: 0.5739 - lr: 1.5000e-04\n"
     ]
    }
   ],
   "source": [
    "# decrease LR and batch size\n",
    "_=gc.collect()\n",
    "keras.backend.set_value(model.optimizer.lr, 0.0005)\n",
    "model.layers[0].trainable = True\n",
    "history = model.fit(X_train, y_train, validation_split=0.05, epochs=5, batch_size=64, verbose=1, callbacks=[lr, cp])\n",
    "model.save(\"keras_lstm_min_3_score.h5\")\n",
    "\n",
    "loss.extend(history.history['loss'])\n",
    "acc.extend(history.history['acc'])\n",
    "val_loss.extend(history.history['val_loss'])\n",
    "val_acc.extend(history.history['val_acc'])"
   ]
  },
  {
   "cell_type": "markdown",
   "id": "92d16d29",
   "metadata": {},
   "source": [
    "#### This will print the top five most likely tags, and then the 4 metrics, in a manner such the the network preds the same number of tags as the ground truth"
   ]
  },
  {
   "cell_type": "code",
   "execution_count": 88,
   "id": "f03b7569",
   "metadata": {},
   "outputs": [
    {
     "name": "stdout",
     "output_type": "stream",
     "text": [
      "y_pred: c, c++, debugging, gcc, linux\n",
      "y_test: c, gcc\n",
      "\n",
      "\n",
      "y_pred: ios, iphone, objective-c, swift, xcode\n",
      "y_test: ios, xcode\n",
      "\n",
      "\n",
      "y_pred: android, image, java, security, xml\n",
      "y_test: android\n",
      "\n",
      "\n",
      "y_pred: .net, c#, c++, java, oop\n",
      "y_test: java, oop\n",
      "\n",
      "\n",
      "y_pred: android, eclipse, image, java, xml\n",
      "y_test: android\n",
      "\n",
      "\n",
      "Accuracy score: 0.6074004683840749\n",
      "Recall score: 0.7184016865447306\n",
      "Precision score: 0.7106922187288004\n",
      "F1 score: 0.7064893569114334\n"
     ]
    }
   ],
   "source": [
    "model.load_weights(checkpoint_file)\n",
    "\n",
    "y_pred = model.predict(X_test)\n",
    "\n",
    "topN = 5\n",
    "y_pred_top = np.zeros_like(y_pred)\n",
    "for i in range(y_pred.shape[0]):\n",
    "    best = y_pred[i].argsort()\n",
    "    y_pred_ = np.zeros(y_pred.shape[1])\n",
    "    y_pred_[best[-topN:]] = 1\n",
    "    y_pred_top[i] = y_pred_\n",
    "\n",
    "for i in range(5): # how many examples to print\n",
    "    idx = np.random.randint(0, len(y_pred))\n",
    "    print(\"y_pred:\",', '.join(mlb.inverse_transform(y_pred_top[idx].reshape(1,-1))[0]))\n",
    "    print(\"y_test:\",', '.join(mlb.inverse_transform(y_test[idx].reshape(1,-1))[0]))\n",
    "    print('\\n')\n",
    "    \n",
    "\n",
    "y_pred_same_number_of_tags = [] # if average tags is 2.5, we are at a disadvantage if we do 2 or 3 tags.\n",
    "for i in range(len(y_pred)):  \n",
    "    best = y_pred[i].argsort()\n",
    "    y_pred_ = np.zeros(y_pred.shape[1])\n",
    "    number_of_tags = np.sum(y_test[i])\n",
    "    y_pred_[best[-number_of_tags:]] = 1\n",
    "    y_pred_same_number_of_tags.append(y_pred_)\n",
    "    \n",
    "_ = print_score(y_test, y_pred_same_number_of_tags) "
   ]
  },
  {
   "cell_type": "markdown",
   "id": "627b8756",
   "metadata": {},
   "source": [
    "```\n",
    "on the all scores dataset \"questions_preprocessed.csv\"\n",
    "2963/2963 [==============================] - 85s 29ms/step - loss: 0.0199 - acc: 0.6533 - val_loss: 0.0242 - val_acc: 0.6135 - lr: 5.0000e-04\n",
    "\n",
    "Accuracy score: 0.6504909819639279\n",
    "Recall score: 0.7615028687766056\n",
    "Precision score: 0.7574494222705919\n",
    "F1 score: 0.7544918807953225\n",
    "\n",
    "\n",
    "on the min 3 scores dataset \"questions_preprocessed_min3.csv\"\n",
    "\n",
    "1902/1902 [==============================] - 47s 25ms/step - loss: 0.0195 - acc: 0.6716 - val_loss: 0.0313 - val_acc: 0.5739 - lr: 1.5000e-04\n",
    "\n",
    "Accuracy score: 0.6123965651834504\n",
    "Recall score: 0.7221690839173125\n",
    "Precision score: 0.7139613396235852\n",
    "F1 score: 0.714711189087093\n",
    "\n",
    "\n",
    "```"
   ]
  },
  {
   "cell_type": "code",
   "execution_count": null,
   "id": "b3f317e8",
   "metadata": {},
   "outputs": [],
   "source": []
  },
  {
   "cell_type": "code",
   "execution_count": 91,
   "id": "a556b5a2",
   "metadata": {},
   "outputs": [
    {
     "data": {
      "text/plain": [
       "<Figure size 864x576 with 0 Axes>"
      ]
     },
     "execution_count": 91,
     "metadata": {},
     "output_type": "execute_result"
    },
    {
     "data": {
      "text/plain": [
       "Text(0.5, 1.0, 'LSTM w/ GloVe Loss BCE')"
      ]
     },
     "execution_count": 91,
     "metadata": {},
     "output_type": "execute_result"
    },
    {
     "data": {
      "text/plain": [
       "[<matplotlib.lines.Line2D at 0x16b5e98ef10>]"
      ]
     },
     "execution_count": 91,
     "metadata": {},
     "output_type": "execute_result"
    },
    {
     "data": {
      "text/plain": [
       "[<matplotlib.lines.Line2D at 0x16b5e98e9a0>]"
      ]
     },
     "execution_count": 91,
     "metadata": {},
     "output_type": "execute_result"
    },
    {
     "data": {
      "text/plain": [
       "<matplotlib.legend.Legend at 0x16b5e981fa0>"
      ]
     },
     "execution_count": 91,
     "metadata": {},
     "output_type": "execute_result"
    },
    {
     "data": {
      "image/png": "[encoded data removed]",
      "text/plain": [
       "<Figure size 864x576 with 1 Axes>"
      ]
     },
     "metadata": {
      "needs_background": "light"
     },
     "output_type": "display_data"
    }
   ],
   "source": [
    "plt.figure(figsize=(12,8))\n",
    "plt.title('LSTM w/ GloVe Loss BCE')\n",
    "plt.plot(loss, label='train loss')\n",
    "plt.plot(val_loss, label='val loss')\n",
    "plt.legend()\n",
    "plt.show()"
   ]
  },
  {
   "cell_type": "markdown",
   "id": "73392844",
   "metadata": {},
   "source": [
    "### The torch model failed to train\n",
    "> code is left to show proof of work"
   ]
  },
  {
   "cell_type": "code",
   "execution_count": null,
   "id": "b52a5441",
   "metadata": {},
   "outputs": [],
   "source": [
    "import torch\n",
    "import torch.nn as nn\n",
    "import torch.nn.functional as F\n",
    "import torch.optim as optim\n",
    "\n",
    "device = torch.device('cuda' if torch.cuda.is_available() else 'cpu')"
   ]
  },
  {
   "cell_type": "code",
   "execution_count": null,
   "id": "fee8506b",
   "metadata": {},
   "outputs": [],
   "source": [
    "# def minimal_code_example():\n",
    "#     m = nn.Sigmoid()\n",
    "#     loss = nn.BCELoss()\n",
    "\n",
    "#     input = torch.randn(3, requires_grad=True)\n",
    "#     target = torch.empty(3).random_(2)\n",
    "\n",
    "#     lin = torch.nn.Linear(3,3)\n",
    "#     optimizer = optim.SGD(lin.parameters(), lr = 0.001)\n",
    "\n",
    "#     print(f'lin(input)    = {lin(input).detach().numpy()}')\n",
    "#     print(f'target        = {target.detach().numpy()}')\n",
    "    \n",
    "#     for i in range(500):\n",
    "#         output = loss(m(lin(input)), target)\n",
    "#         # optimizer.clear_grad()\n",
    "#         output.backward()\n",
    "#         optimizer.step()\n",
    "#         # output.item()\n",
    "\n",
    "#     print(f'lin(input)    = {lin(input).detach().numpy()}')\n",
    "#     print(f'm(lin(input)) = {m(lin(input)).detach().numpy()}')\n",
    "#     print(f'target        = {target.detach().numpy()}')\n",
    "    \n",
    "\n",
    "# minimal_code_example()"
   ]
  },
  {
   "cell_type": "code",
   "execution_count": null,
   "id": "ec7475df",
   "metadata": {},
   "outputs": [],
   "source": [
    "X_train_tensor = torch.tensor(X_train).to(device)\n",
    "X_test_tensor = torch.tensor(X_test).to(device)\n",
    "\n",
    "y_train_tensor = torch.tensor(y_train, dtype=torch.float32).to(device)\n",
    "y_test_tensor = torch.tensor(y_test, dtype=torch.float32).to(device)\n",
    "\n",
    "embedding_matrix = torch.tensor(embedding_matrix)\n",
    "(vocab_size, embedding_dim)\n",
    "\n",
    "# idx = 64\n",
    "# X_train_tensor, X_test_tensor, y_train_tensor, y_test_tensor = X_train_tensor[:idx], X_test_tensor[:idx], y_train_tensor[:idx], y_test_tensor[:idx]\n"
   ]
  },
  {
   "cell_type": "code",
   "execution_count": null,
   "id": "485c34a8",
   "metadata": {},
   "outputs": [],
   "source": [
    "# from my past code https://github.com/alik604/cyber-security/blob/master/Intrusion-Detection/UNSW_NB15%20-%20PyTorch%20feature%20selection%20via%20L1%20regularization%20on%20layer_1.ipynb\n",
    "class LSTM(nn.Module):\n",
    "\n",
    "    def __init__(self, vocab_size, embedding_dim, target_size):\n",
    "        super(LSTM, self).__init__()\n",
    "        self.embeddings = nn.Embedding(vocab_size, embedding_dim)\n",
    "        self.lstm = nn.LSTM(embedding_dim*maxlen, target_size)\n",
    "        self.linear = nn.Linear(target_size, target_size)\n",
    "        self.linear_out = nn.Linear(target_size, target_size)\n",
    "        \n",
    "        self.embeddings.load_state_dict({'weight': embedding_matrix})\n",
    "        # self.embeddings.weight.requires_grad = False\n",
    "\n",
    "\n",
    "    def forward(self, inputs):\n",
    "        # print(f'inputs: {inputs.size()}')\n",
    "        \n",
    "        out = self.embeddings(inputs) \n",
    "        # print(f'embeds: {out.size()}')\n",
    "        \n",
    "        out, _ = self.lstm(out.view(len(inputs), 1, -1))\n",
    "        # print(f'lstm: {out.size()}')\n",
    "        \n",
    "        out = out.view(len(inputs), -1)\n",
    "        out = F.relu(self.linear(out))\n",
    "        # print(f'linear: {out.size()}')\n",
    "        \n",
    "        out = self.linear_out(out)\n",
    "        # print(f'linear_out: {out.size()}')\n",
    "        \n",
    "        return F.sigmoid(out)"
   ]
  },
  {
   "cell_type": "code",
   "execution_count": null,
   "id": "dc626e6a",
   "metadata": {},
   "outputs": [],
   "source": [
    "num_epochs = 0 # 10 # disable. model will not train\n",
    "batch_size = 128\n",
    "batch_size_test = 512\n",
    "LR = 0.0005 # 0.001\n",
    "\n",
    "train_losses = []\n",
    "test_losses = []\n",
    "best_f1 = -1\n",
    "\n",
    "criterion = nn.BCELoss() # nn.CrossEntropyLoss()\n",
    "model = LSTM(vocab_size, embedding_dim, target_size).to(device)\n",
    "try:\n",
    "    model.load_state_dict(torch.load('model.pt'))\n",
    "except:\n",
    "    print('model.pt not found')\n",
    "optimizer = optim.Adam(model.parameters(), lr=LR)"
   ]
  },
  {
   "cell_type": "code",
   "execution_count": null,
   "id": "63884ba6",
   "metadata": {},
   "outputs": [],
   "source": [
    "\n",
    "for epoch in range(num_epochs):\n",
    "    train_loss = 0\n",
    "    test_loss = 0\n",
    "    \n",
    "    if epoch == int(num_epochs/2):\n",
    "        model.embeddings.weight.requires_grad = True\n",
    "        \n",
    "    for i in range(0, X_train_tensor.shape[0], batch_size):\n",
    "\n",
    "        x = X_train_tensor[i:i+batch_size]#.to(device)\n",
    "        y = y_train_tensor[i:i+batch_size]#.to(device)\n",
    "\n",
    "        optimizer.zero_grad()\n",
    "        outputs = model(x)     \n",
    "        \n",
    "        # print(f'outputs: {outputs.size()} | {y.dtype}')\n",
    "        # print(f'y:       {y.size()} | {y.dtype}')        \n",
    "        # print(outputs[0])\n",
    "        # print(y[0])\n",
    "        # break\n",
    "        loss = criterion(outputs, y)\n",
    "        \n",
    "        round_ = torch.round(outputs)\n",
    "        number_of_predictions_per_sample = torch.sum(round_, -1)\n",
    "        number_of_predictions_per_batch = torch.sum(number_of_predictions_per_sample > 1)\n",
    "        if  number_of_predictions_per_batch < batch_size: # there must be a pred for each sample, the network thinks it can preform by marely guessing all 0s\n",
    "            loss = loss + (batch_size - number_of_predictions_per_batch)/batch_size  # 0.01 * torch.norm(model.embeddings.weight, 1) \n",
    "            \n",
    "        loss.backward()\n",
    "        optimizer.step()\n",
    "        train_loss += loss.item()\n",
    "        # break\n",
    "    train_losses.append(train_loss)\n",
    "\n",
    "    if epoch % 1 == 0:\n",
    "        l = X_test_tensor.shape[0]\n",
    "        y_pred = np.zeros((l, target_size))\n",
    "        for i in range(0, l, batch_size_test):\n",
    "            with torch.no_grad(): \n",
    "                x = X_test_tensor[i:i+batch_size_test]#.to(device)\n",
    "                y = y_test_tensor[i:i+batch_size_test]#.to(device)\n",
    "                \n",
    "                outputs = model(x)\n",
    "                y_pred[i:min(i+batch_size_test, l)] = outputs.detach().cpu().numpy()  \n",
    "                loss = criterion(outputs, y) \n",
    "                test_loss += loss.item()\n",
    "                \n",
    "        test_losses.append(test_loss)\n",
    "        y_pred = np.array(y_pred > 0.5, dtype=float) # TODO if this was used, there is better code for this used with the keras model\n",
    "        \n",
    "        print(f'[{epoch+1}/{num_epochs}] | Train Loss {train_loss/len(X_train_tensor):.6f} | Test Loss {test_loss/len(X_test_tensor):.6f}')\n",
    "        \n",
    "        f1 = print_score(y_test_tensor.detach().cpu().numpy(), y_pred)\n",
    "        if f1 > best_f1:\n",
    "            best_f1 = f1\n",
    "            torch.save(model.state_dict(), 'model.pt')\n",
    "            print('\\tWeights Saved')\n",
    "    else:\n",
    "        print(f'[{epoch+1}/{num_epochs}] | Train Loss {train_loss/len(X_train_tensor):.6f}')\n",
    "\n"
   ]
  },
  {
   "cell_type": "code",
   "execution_count": null,
   "id": "df8b5b1b",
   "metadata": {},
   "outputs": [],
   "source": [
    "torch.cuda.empty_cache()\n",
    "gc.collect()\n",
    "# del X_train_tensor, X_test_tensor, y_train_tensor, y_test_tensor, model, optimizer, criterion\n",
    "\n",
    "# plt.plot(train_losses)"
   ]
  },
  {
   "cell_type": "code",
   "execution_count": null,
   "id": "d2d3f7c0",
   "metadata": {},
   "outputs": [],
   "source": [
    "def predict(X):\n",
    "    # y_pred_ = []\n",
    "    y_pred_ = np.zeros((X.shape[0], 101))\n",
    "    with torch.no_grad(): \n",
    "        for i in range(0, X.shape[0], 512):\n",
    "            with torch.no_grad(): \n",
    "                x = X[i:i+512].to(device)\n",
    "                y_pred = model(x).detach().cpu().numpy()      \n",
    "                y_pred_[i:min(i+512, X.shape[0])] = y_pred #.extend(x)\n",
    "    return y_pred_\n",
    "\n",
    "sample = 64\n",
    "y_pred = predict(X_test_tensor[:sample])\n",
    "y_pred = np.array(np.array(y_pred) > 0.5, dtype=float)\n",
    "print_score(y_test[:sample], y_pred[:sample])"
   ]
  },
  {
   "cell_type": "code",
   "execution_count": null,
   "id": "e6ba8f05",
   "metadata": {},
   "outputs": [],
   "source": []
  },
  {
   "cell_type": "markdown",
   "id": "897a2211",
   "metadata": {},
   "source": [
    "# Expirement 2: Encoding with TfidfVectorizer\n",
    "> the following stats are for the `tags_preprocessed.csv` dataset"
   ]
  },
  {
   "cell_type": "code",
   "execution_count": 28,
   "id": "5c5a5a2a",
   "metadata": {},
   "outputs": [
    {
     "name": "stdout",
     "output_type": "stream",
     "text": [
      "The number of features is 5000\n"
     ]
    }
   ],
   "source": [
    "# https://www.linkedin.com/pulse/count-vectorizers-vs-tfidf-natural-language-processing-sheel-saket\n",
    "# https://scikit-learn.org/stable/modules/generated/sklearn.feature_extraction.text.CountVectorizer.html\n",
    "# https://scikit-learn.org/stable/modules/generated/sklearn.feature_extraction.text.TfidfVectorizer.html\n",
    "\n",
    "# Equivalent to CountVectorizer followed by TfidfTransformer.\n",
    "# would be cool to try tri-grams. \n",
    "stop_words = \"english\"\n",
    "stop_words = None # there are maybe 300 stop words, and thousands of other features. i'm inclined to keep them around\n",
    "max_features = 374513 # 374513 for unigrams without min_df\n",
    "max_features = 5000  # realistic? \n",
    "min_df=5   # 108967 \n",
    "min_df=50  # 20671\n",
    "min_df=200 # 8908\n",
    "min_df=1000# 3385\n",
    "max_df=0.90 # 8908 -> 8906\n",
    "# max_df=0.85 # 8906 -> 8906\n",
    "\n",
    "\n",
    "### if on tags_preprocessed_min3.csv dataset, use this\n",
    "min_df=318 # 3378\n",
    "\n",
    "\n",
    "vectorizer = TfidfVectorizer(strip_accents='unicode', ngram_range=(1, 1), stop_words=stop_words, max_features=max_features, min_df=min_df, max_df=max_df)\n",
    "# vectorizer = CountVectorizer()\n",
    "\n",
    "docs       = vectorizer.fit_transform(list_of_questions)\n",
    "features   = vectorizer.get_feature_names()\n",
    "print(f'The number of features is {len(features)}')"
   ]
  },
  {
   "cell_type": "code",
   "execution_count": 29,
   "id": "8f63ae3c",
   "metadata": {},
   "outputs": [],
   "source": [
    "# rand = random.randint(0, len(features)-10)\n",
    "# features[rand: rand+10]"
   ]
  },
  {
   "cell_type": "markdown",
   "id": "4dfe6b03",
   "metadata": {},
   "source": [
    "### Note the `test_size` below"
   ]
  },
  {
   "cell_type": "code",
   "execution_count": 30,
   "id": "bb6054cb",
   "metadata": {},
   "outputs": [
    {
     "name": "stdout",
     "output_type": "stream",
     "text": [
      "The number of samples is 498996 \n",
      "The number of features is 5000\n"
     ]
    }
   ],
   "source": [
    "print(f'The number of samples is {docs.shape[0]} \\nThe number of features is {docs.shape[1]}')\n",
    "\n",
    "X_train, X_test, y_train, y_test = train_test_split(docs, list_of_tags, test_size=0.2, random_state=42)\n",
    "\n",
    "y_train = np.asarray(y_train)\n",
    "for i in range(len(y_train)):\n",
    "    y_train[i] = np.array(y_train[i])\n",
    "    \n",
    "y_test = np.asarray(y_test)\n",
    "for i in range(len(y_test)):\n",
    "    y_test[i] = np.array(y_test[i])"
   ]
  },
  {
   "cell_type": "code",
   "execution_count": 31,
   "id": "25546d75",
   "metadata": {},
   "outputs": [],
   "source": [
    "# print(f'shape of X_train: {X_train.shape}')\n",
    "\n",
    "# # dcomp = SparsePCA(n_components=200, max_iter=1, n_jobs=-1, random_state=42) # poor performance \n",
    "# dcomp = TruncatedSVD(n_components=1500, n_iter=20, random_state=42) # \n",
    "\n",
    "# dcomp.fit(X_train.toarray())\n",
    "# print(f'explained variance ratio: {sum(dcomp.explained_variance_ratio_):.2f}')\n",
    "# X_train_transformed = dcomp.transform(X_train.toarray())\n",
    "# X_test_transformed = dcomp.transform(X_test.toarray())\n",
    "# print(f'shape of X_train_transformed: {X_train_transformed.shape}')"
   ]
  },
  {
   "cell_type": "code",
   "execution_count": 32,
   "id": "1910ac21",
   "metadata": {},
   "outputs": [],
   "source": [
    "### TruncatedSVD()\n",
    "## n_components=300\n",
    "# 3  itr gave explained variance ratio: 0.41\n",
    "# 15 itr gave explained variance ratio: 0.42\n",
    "\n",
    "## n_components=500\n",
    "# 3  itr gave explained variance ratio: 0.53\n",
    "# 15 itr gave explained variance ratio: 0.53\n",
    "\n",
    "## n_components=1000\n",
    "# 3  itr gave explained variance ratio: 0.71\n",
    "# 15 itr gave explained variance ratio: 0.71\n",
    "\n",
    "## n_components=1500\n",
    "# 3  itr gave explained variance ratio: 0.82\n",
    "\n",
    "\n",
    "# clfs = []\n",
    "# # clfs.append(DecisionTreeClassifier(random_state=42))\n",
    "# clfs.append(ExtraTreesClassifier(n_estimators=10, random_state=42, n_jobs=-1))\n",
    "# clfs.append(RandomForestClassifier(n_estimators=15, random_state=42, n_jobs=-1))\n",
    "# # clfs.append(RadiusNeighborsClassifier(n_jobs=-1))\n",
    "\n",
    "# # clfs.append(KNeighborsClassifier(n_neighbors=10, n_jobs=-1)) # untested\n",
    "\n",
    "# for clf in clfs:\n",
    "#     start = time.time()\n",
    "    \n",
    "#     _ = clf.fit(X_train_transformed, y_train)\n",
    "    \n",
    "#     print(\"Clf: \", clf.__class__.__name__)\n",
    "#     print_score(y_test, clf.predict(X_test_transformed))\n",
    "#     print(f'Train score: {clf.score(X_train_transformed, y_train)}')\n",
    "#     print(f'Test score:  {clf.score(X_test_transformed, y_test)}')\n",
    "\n",
    "#     print(f'Time taken for {clf.__class__.__name__} was {time.time()-start:.2f}\\n\\n')\n",
    "\n",
    "\n",
    "# min score 1... min df 1000"
   ]
  },
  {
   "cell_type": "code",
   "execution_count": 33,
   "id": "fb91ca22",
   "metadata": {},
   "outputs": [],
   "source": [
    "clfs = []\n",
    "# clfs.append(DecisionTreeClassifier(random_state=42))\n",
    "clfs.append(ExtraTreesClassifier(n_estimators=10, random_state=42, n_jobs=3))\n",
    "clfs.append(RandomForestClassifier(n_estimators=15, random_state=42, n_jobs=3))\n",
    "# clfs.append(RadiusNeighborsClassifier(n_jobs=-1))\n",
    "\n",
    "# clfs.append(KNeighborsClassifier(n_neighbors=10, n_jobs=-1)) # untested\n",
    "\n",
    "for clf in clfs:\n",
    "    start = time.time()\n",
    "    _ = gc.collect()\n",
    "    _ = clf.fit(X_train, y_train)\n",
    "    \n",
    "    print(\"Clf: \", clf.__class__.__name__)\n",
    "    f1 = print_score(y_test, clf.predict(X_test))\n",
    "    print(f'Train score: {clf.score(X_train, y_train)}')\n",
    "    print(f'Test score:  {clf.score(X_test, y_test)}')\n",
    "\n",
    "    print(f'Time taken for {clf.__class__.__name__} was {time.time()-start:.2f}\\n\\n')"
   ]
  },
  {
   "cell_type": "code",
   "execution_count": 103,
   "id": "440d1258",
   "metadata": {},
   "outputs": [
    {
     "name": "stdout",
     "output_type": "stream",
     "text": [
      "Clf:  MLPClassifier\n",
      "Accuracy score: 0.33423887587822015\n",
      "Recall score: 0.5944094165414121\n",
      "Precision score: 0.6495997459270161\n",
      "F1 score: 0.6191668671471201\n",
      "Train score: 0.9959952536339365\n",
      "Test score:  0.33423887587822015\n",
      "Time taken for MLPClassifier was 1801.59\n"
     ]
    },
    {
     "data": {
      "text/plain": [
       "<Figure size 432x216 with 0 Axes>"
      ]
     },
     "execution_count": 103,
     "metadata": {},
     "output_type": "execute_result"
    },
    {
     "data": {
      "text/plain": [
       "[<matplotlib.lines.Line2D at 0x16878645340>]"
      ]
     },
     "execution_count": 103,
     "metadata": {},
     "output_type": "execute_result"
    },
    {
     "data": {
      "image/png": "[encoded data removed]",
      "text/plain": [
       "<Figure size 432x216 with 1 Axes>"
      ]
     },
     "metadata": {
      "needs_background": "light"
     },
     "output_type": "display_data"
    }
   ],
   "source": [
    "print('Caution MLPClassifier can take long to train. ')\n",
    "start = time.time()\n",
    "\n",
    "clf = MLPClassifier(hidden_layer_sizes=(512, 100), random_state=42, max_iter=30)\n",
    "\n",
    "clf = clf.fit(X_train, y_train)\n",
    "\n",
    "print(\"Clf: \", clf.__class__.__name__)\n",
    "f1 = print_score(y_test, clf.predict(X_test))\n",
    "print(f'Train score: {clf.score(X_train, y_train)}')\n",
    "print(f'Test score:  {clf.score(X_test, y_test)}')\n",
    "    \n",
    "print(f'Time taken for {clf.__class__.__name__} was {time.time()-start:.2f}')\n",
    "\n",
    "plt.figure(figsize=(6,3))\n",
    "plt.plot(clf.loss_curve_)"
   ]
  },
  {
   "cell_type": "code",
   "execution_count": 102,
   "id": "3ba38358",
   "metadata": {},
   "outputs": [
    {
     "data": {
      "text/plain": [
       "72"
      ]
     },
     "execution_count": 102,
     "metadata": {},
     "output_type": "execute_result"
    }
   ],
   "source": [
    "del clfs\n",
    "_=gc.collect()"
   ]
  },
  {
   "cell_type": "code",
   "execution_count": null,
   "id": "5e0792c1",
   "metadata": {},
   "outputs": [
    {
     "name": "stdout",
     "output_type": "stream",
     "text": [
      "y_pred: c#\n",
      "y_test: c#\n",
      "\n",
      "\n",
      "y_pred: \n",
      "y_test: xml\n",
      "\n",
      "\n",
      "y_pred: \n",
      "y_test: class\n",
      "\n",
      "\n",
      "y_pred: ios, objective-c\n",
      "y_test: ios, objective-c\n",
      "\n",
      "\n",
      "y_pred: django, python\n",
      "y_test: django\n",
      "\n",
      "\n",
      "y_pred: \n",
      "y_test: c++\n",
      "\n",
      "\n",
      "y_pred: c#, delphi, winforms\n",
      "y_test: .net, c#, winforms\n",
      "\n",
      "\n",
      "y_pred: android\n",
      "y_test: android\n",
      "\n",
      "\n",
      "y_pred: database, mysql\n",
      "y_test: database, mysql\n",
      "\n",
      "\n",
      "y_pred: ipad\n",
      "y_test: iphone, objective-c, xcode\n",
      "\n",
      "\n"
     ]
    }
   ],
   "source": [
    "y_pred = clf.predict(X_test[:])\n",
    "for i in range(5):\n",
    "    idx = np.random.randint(0, len(y_pred))\n",
    "    print(\"y_pred:\",', '.join(mlb.inverse_transform(y_pred[idx].reshape(1,-1))[0]))\n",
    "    print(\"y_test:\",', '.join(mlb.inverse_transform(y_test[idx].reshape(1,-1))[0]))\n",
    "    print('\\n')\n"
   ]
  },
  {
   "cell_type": "code",
   "execution_count": null,
   "id": "4a2030e1",
   "metadata": {},
   "outputs": [
    {
     "name": "stdout",
     "output_type": "stream",
     "text": [
      "Accuracy score: 0.41033567525370807\n",
      "Recall score: 0.5303246208202386\n",
      "Precision score: 0.6853284607898511\n",
      "F1 score: 0.585585014891463\n"
     ]
    }
   ],
   "source": [
    "y_pred_same_number_of_tags = [] # if average tags is 2.5, we are at a disadvantage if we do 2 or 3 tags.\n",
    "for i in range(len(y_pred)):  \n",
    "    best = y_pred[i].argsort()\n",
    "    y_pred_ = np.zeros(y_pred.shape[1])\n",
    "    number_of_tags = np.sum(y_test[i])\n",
    "    y_pred_[best[-number_of_tags:]] = 1\n",
    "    y_pred_same_number_of_tags.append(y_pred_)\n",
    "    \n",
    "_ = print_score(y_test, y_pred_same_number_of_tags) "
   ]
  },
  {
   "cell_type": "code",
   "execution_count": null,
   "id": "8211c161",
   "metadata": {},
   "outputs": [
    {
     "name": "stdout",
     "output_type": "stream",
     "text": [
      "Train set\n",
      "Accuracy score: 0.9959952536339365\n",
      "Recall score: 0.9989239633364962\n",
      "Precision score: 0.998521101023201\n",
      "F1 score: 0.9987211981852843\n",
      "Test set\n",
      "Accuracy score: 0.33423887587822015\n",
      "Recall score: 0.5944094165414121\n",
      "Precision score: 0.6495997459270161\n",
      "F1 score: 0.6191668671471201\n"
     ]
    }
   ],
   "source": [
    "# without ensuring the same number of tags, we are at a disadvantage if we do 2 or 3 tags.\n",
    "\n",
    "print(\"Train set\")\n",
    "_ = print_score(y_train, clf.predict(X_train)) \n",
    "\n",
    "print(\"Test set\")\n",
    "_ = print_score(y_test, y_pred) "
   ]
  },
  {
   "cell_type": "code",
   "execution_count": null,
   "id": "a7fc7f9c",
   "metadata": {},
   "outputs": [],
   "source": []
  },
  {
   "cell_type": "markdown",
   "id": "796ead60",
   "metadata": {},
   "source": [
    "## Miscellaneous ending statistics and investigation \n",
    "> out of order execution. note TF-IDF will discrd data. y_train for it can not be assumed to be similar to y_train from tokenizer"
   ]
  },
  {
   "cell_type": "code",
   "execution_count": 57,
   "id": "5b76938f",
   "metadata": {},
   "outputs": [
    {
     "data": {
      "text/html": [
       "<div>\n",
       "<style scoped>\n",
       "    .dataframe tbody tr th:only-of-type {\n",
       "        vertical-align: middle;\n",
       "    }\n",
       "\n",
       "    .dataframe tbody tr th {\n",
       "        vertical-align: top;\n",
       "    }\n",
       "\n",
       "    .dataframe thead th {\n",
       "        text-align: right;\n",
       "    }\n",
       "</style>\n",
       "<table border=\"1\" class=\"dataframe\">\n",
       "  <thead>\n",
       "    <tr style=\"text-align: right;\">\n",
       "      <th></th>\n",
       "      <th>0</th>\n",
       "      <th>1</th>\n",
       "      <th>2</th>\n",
       "      <th>3</th>\n",
       "      <th>4</th>\n",
       "      <th>5</th>\n",
       "      <th>6</th>\n",
       "      <th>7</th>\n",
       "      <th>8</th>\n",
       "      <th>9</th>\n",
       "      <th>...</th>\n",
       "      <th>91</th>\n",
       "      <th>92</th>\n",
       "      <th>93</th>\n",
       "      <th>94</th>\n",
       "      <th>95</th>\n",
       "      <th>96</th>\n",
       "      <th>97</th>\n",
       "      <th>98</th>\n",
       "      <th>99</th>\n",
       "      <th>100</th>\n",
       "    </tr>\n",
       "  </thead>\n",
       "  <tbody>\n",
       "    <tr>\n",
       "      <th>0</th>\n",
       "      <td>0</td>\n",
       "      <td>1</td>\n",
       "      <td>0</td>\n",
       "      <td>0</td>\n",
       "      <td>0</td>\n",
       "      <td>0</td>\n",
       "      <td>0</td>\n",
       "      <td>0</td>\n",
       "      <td>0</td>\n",
       "      <td>0</td>\n",
       "      <td>...</td>\n",
       "      <td>0</td>\n",
       "      <td>0</td>\n",
       "      <td>0</td>\n",
       "      <td>0</td>\n",
       "      <td>0</td>\n",
       "      <td>0</td>\n",
       "      <td>0</td>\n",
       "      <td>0</td>\n",
       "      <td>0</td>\n",
       "      <td>0</td>\n",
       "    </tr>\n",
       "    <tr>\n",
       "      <th>1</th>\n",
       "      <td>0</td>\n",
       "      <td>0</td>\n",
       "      <td>0</td>\n",
       "      <td>0</td>\n",
       "      <td>0</td>\n",
       "      <td>0</td>\n",
       "      <td>0</td>\n",
       "      <td>0</td>\n",
       "      <td>0</td>\n",
       "      <td>0</td>\n",
       "      <td>...</td>\n",
       "      <td>0</td>\n",
       "      <td>0</td>\n",
       "      <td>0</td>\n",
       "      <td>0</td>\n",
       "      <td>0</td>\n",
       "      <td>0</td>\n",
       "      <td>0</td>\n",
       "      <td>0</td>\n",
       "      <td>0</td>\n",
       "      <td>0</td>\n",
       "    </tr>\n",
       "    <tr>\n",
       "      <th>2</th>\n",
       "      <td>0</td>\n",
       "      <td>0</td>\n",
       "      <td>0</td>\n",
       "      <td>0</td>\n",
       "      <td>0</td>\n",
       "      <td>0</td>\n",
       "      <td>0</td>\n",
       "      <td>0</td>\n",
       "      <td>0</td>\n",
       "      <td>0</td>\n",
       "      <td>...</td>\n",
       "      <td>0</td>\n",
       "      <td>0</td>\n",
       "      <td>0</td>\n",
       "      <td>0</td>\n",
       "      <td>0</td>\n",
       "      <td>0</td>\n",
       "      <td>0</td>\n",
       "      <td>0</td>\n",
       "      <td>0</td>\n",
       "      <td>0</td>\n",
       "    </tr>\n",
       "    <tr>\n",
       "      <th>3</th>\n",
       "      <td>0</td>\n",
       "      <td>0</td>\n",
       "      <td>0</td>\n",
       "      <td>0</td>\n",
       "      <td>0</td>\n",
       "      <td>0</td>\n",
       "      <td>0</td>\n",
       "      <td>0</td>\n",
       "      <td>0</td>\n",
       "      <td>0</td>\n",
       "      <td>...</td>\n",
       "      <td>0</td>\n",
       "      <td>0</td>\n",
       "      <td>0</td>\n",
       "      <td>0</td>\n",
       "      <td>1</td>\n",
       "      <td>0</td>\n",
       "      <td>0</td>\n",
       "      <td>0</td>\n",
       "      <td>0</td>\n",
       "      <td>0</td>\n",
       "    </tr>\n",
       "    <tr>\n",
       "      <th>4</th>\n",
       "      <td>0</td>\n",
       "      <td>0</td>\n",
       "      <td>0</td>\n",
       "      <td>0</td>\n",
       "      <td>0</td>\n",
       "      <td>0</td>\n",
       "      <td>0</td>\n",
       "      <td>0</td>\n",
       "      <td>0</td>\n",
       "      <td>0</td>\n",
       "      <td>...</td>\n",
       "      <td>0</td>\n",
       "      <td>0</td>\n",
       "      <td>0</td>\n",
       "      <td>0</td>\n",
       "      <td>0</td>\n",
       "      <td>0</td>\n",
       "      <td>0</td>\n",
       "      <td>0</td>\n",
       "      <td>0</td>\n",
       "      <td>0</td>\n",
       "    </tr>\n",
       "    <tr>\n",
       "      <th>...</th>\n",
       "      <td>...</td>\n",
       "      <td>...</td>\n",
       "      <td>...</td>\n",
       "      <td>...</td>\n",
       "      <td>...</td>\n",
       "      <td>...</td>\n",
       "      <td>...</td>\n",
       "      <td>...</td>\n",
       "      <td>...</td>\n",
       "      <td>...</td>\n",
       "      <td>...</td>\n",
       "      <td>...</td>\n",
       "      <td>...</td>\n",
       "      <td>...</td>\n",
       "      <td>...</td>\n",
       "      <td>...</td>\n",
       "      <td>...</td>\n",
       "      <td>...</td>\n",
       "      <td>...</td>\n",
       "      <td>...</td>\n",
       "      <td>...</td>\n",
       "    </tr>\n",
       "    <tr>\n",
       "      <th>498991</th>\n",
       "      <td>0</td>\n",
       "      <td>0</td>\n",
       "      <td>0</td>\n",
       "      <td>0</td>\n",
       "      <td>0</td>\n",
       "      <td>0</td>\n",
       "      <td>0</td>\n",
       "      <td>0</td>\n",
       "      <td>0</td>\n",
       "      <td>0</td>\n",
       "      <td>...</td>\n",
       "      <td>0</td>\n",
       "      <td>0</td>\n",
       "      <td>0</td>\n",
       "      <td>0</td>\n",
       "      <td>0</td>\n",
       "      <td>0</td>\n",
       "      <td>0</td>\n",
       "      <td>0</td>\n",
       "      <td>0</td>\n",
       "      <td>0</td>\n",
       "    </tr>\n",
       "    <tr>\n",
       "      <th>498992</th>\n",
       "      <td>0</td>\n",
       "      <td>0</td>\n",
       "      <td>0</td>\n",
       "      <td>0</td>\n",
       "      <td>0</td>\n",
       "      <td>0</td>\n",
       "      <td>0</td>\n",
       "      <td>0</td>\n",
       "      <td>0</td>\n",
       "      <td>0</td>\n",
       "      <td>...</td>\n",
       "      <td>0</td>\n",
       "      <td>0</td>\n",
       "      <td>0</td>\n",
       "      <td>0</td>\n",
       "      <td>0</td>\n",
       "      <td>0</td>\n",
       "      <td>0</td>\n",
       "      <td>0</td>\n",
       "      <td>0</td>\n",
       "      <td>0</td>\n",
       "    </tr>\n",
       "    <tr>\n",
       "      <th>498993</th>\n",
       "      <td>0</td>\n",
       "      <td>0</td>\n",
       "      <td>0</td>\n",
       "      <td>0</td>\n",
       "      <td>0</td>\n",
       "      <td>0</td>\n",
       "      <td>0</td>\n",
       "      <td>0</td>\n",
       "      <td>0</td>\n",
       "      <td>0</td>\n",
       "      <td>...</td>\n",
       "      <td>0</td>\n",
       "      <td>0</td>\n",
       "      <td>0</td>\n",
       "      <td>0</td>\n",
       "      <td>0</td>\n",
       "      <td>0</td>\n",
       "      <td>0</td>\n",
       "      <td>0</td>\n",
       "      <td>0</td>\n",
       "      <td>0</td>\n",
       "    </tr>\n",
       "    <tr>\n",
       "      <th>498994</th>\n",
       "      <td>0</td>\n",
       "      <td>0</td>\n",
       "      <td>0</td>\n",
       "      <td>0</td>\n",
       "      <td>0</td>\n",
       "      <td>0</td>\n",
       "      <td>0</td>\n",
       "      <td>0</td>\n",
       "      <td>0</td>\n",
       "      <td>0</td>\n",
       "      <td>...</td>\n",
       "      <td>0</td>\n",
       "      <td>0</td>\n",
       "      <td>0</td>\n",
       "      <td>0</td>\n",
       "      <td>0</td>\n",
       "      <td>0</td>\n",
       "      <td>0</td>\n",
       "      <td>0</td>\n",
       "      <td>0</td>\n",
       "      <td>0</td>\n",
       "    </tr>\n",
       "    <tr>\n",
       "      <th>498995</th>\n",
       "      <td>0</td>\n",
       "      <td>0</td>\n",
       "      <td>0</td>\n",
       "      <td>0</td>\n",
       "      <td>0</td>\n",
       "      <td>0</td>\n",
       "      <td>0</td>\n",
       "      <td>0</td>\n",
       "      <td>0</td>\n",
       "      <td>0</td>\n",
       "      <td>...</td>\n",
       "      <td>0</td>\n",
       "      <td>0</td>\n",
       "      <td>0</td>\n",
       "      <td>0</td>\n",
       "      <td>0</td>\n",
       "      <td>0</td>\n",
       "      <td>0</td>\n",
       "      <td>0</td>\n",
       "      <td>0</td>\n",
       "      <td>0</td>\n",
       "    </tr>\n",
       "  </tbody>\n",
       "</table>\n",
       "<p>498996 rows × 101 columns</p>\n",
       "</div>"
      ],
      "text/plain": [
       "        0    1    2    3    4    5    6    7    8    9    ...  91   92   93   \\\n",
       "0         0    1    0    0    0    0    0    0    0    0  ...    0    0    0   \n",
       "1         0    0    0    0    0    0    0    0    0    0  ...    0    0    0   \n",
       "2         0    0    0    0    0    0    0    0    0    0  ...    0    0    0   \n",
       "3         0    0    0    0    0    0    0    0    0    0  ...    0    0    0   \n",
       "4         0    0    0    0    0    0    0    0    0    0  ...    0    0    0   \n",
       "...     ...  ...  ...  ...  ...  ...  ...  ...  ...  ...  ...  ...  ...  ...   \n",
       "498991    0    0    0    0    0    0    0    0    0    0  ...    0    0    0   \n",
       "498992    0    0    0    0    0    0    0    0    0    0  ...    0    0    0   \n",
       "498993    0    0    0    0    0    0    0    0    0    0  ...    0    0    0   \n",
       "498994    0    0    0    0    0    0    0    0    0    0  ...    0    0    0   \n",
       "498995    0    0    0    0    0    0    0    0    0    0  ...    0    0    0   \n",
       "\n",
       "        94   95   96   97   98   99   100  \n",
       "0         0    0    0    0    0    0    0  \n",
       "1         0    0    0    0    0    0    0  \n",
       "2         0    0    0    0    0    0    0  \n",
       "3         0    1    0    0    0    0    0  \n",
       "4         0    0    0    0    0    0    0  \n",
       "...     ...  ...  ...  ...  ...  ...  ...  \n",
       "498991    0    0    0    0    0    0    0  \n",
       "498992    0    0    0    0    0    0    0  \n",
       "498993    0    0    0    0    0    0    0  \n",
       "498994    0    0    0    0    0    0    0  \n",
       "498995    0    0    0    0    0    0    0  \n",
       "\n",
       "[498996 rows x 101 columns]"
      ]
     },
     "execution_count": 57,
     "metadata": {},
     "output_type": "execute_result"
    }
   ],
   "source": [
    "df = pd.DataFrame(np.concatenate((y_train, y_test)), index=None)\n",
    "# df"
   ]
  },
  {
   "cell_type": "code",
   "execution_count": 98,
   "id": "5137bc0e",
   "metadata": {},
   "outputs": [
    {
     "data": {
      "text/plain": [
       "'android'"
      ]
     },
     "execution_count": 98,
     "metadata": {},
     "output_type": "execute_result"
    },
    {
     "name": "stdout",
     "output_type": "stream",
     "text": [
      "Accuracy score: 0.0\n",
      "Recall score: 0.0\n",
      "Precision score: 0.0\n",
      "F1 score: 0.0\n"
     ]
    },
    {
     "data": {
      "text/plain": [
       "'java'"
      ]
     },
     "execution_count": 98,
     "metadata": {},
     "output_type": "execute_result"
    },
    {
     "name": "stdout",
     "output_type": "stream",
     "text": [
      "Accuracy score: 0.0\n",
      "Recall score: 0.0\n",
      "Precision score: 0.0\n",
      "F1 score: 0.0\n"
     ]
    },
    {
     "data": {
      "text/plain": [
       "'python'"
      ]
     },
     "execution_count": 98,
     "metadata": {},
     "output_type": "execute_result"
    },
    {
     "name": "stdout",
     "output_type": "stream",
     "text": [
      "Accuracy score: 0.0\n",
      "Recall score: 0.0\n",
      "Precision score: 0.0\n",
      "F1 score: 0.0\n"
     ]
    }
   ],
   "source": [
    "# df.apply(pd.value_counts)\n",
    "\n",
    "value_counts = df.value_counts()[0].index\n",
    "for i in range(3):\n",
    "    tmp = value_counts[i]\n",
    "    tmp = np.array(tmp)\n",
    "    tmp = np.concatenate((np.array([0]), tmp))\n",
    "    mlb.inverse_transform(tmp.reshape(1,-1))[0][0]\n",
    "    \n",
    "    y_pred = np.zeros_like(y_test)\n",
    "    for i in y_pred:\n",
    "        y_pred[i] = tmp\n",
    "    F1=print_score(y_test, y_pred)"
   ]
  },
  {
   "cell_type": "code",
   "execution_count": 96,
   "id": "7279627f",
   "metadata": {},
   "outputs": [
    {
     "data": {
      "text/plain": [
       "Tag       \n",
       "java          53895\n",
       "javascript    52490\n",
       "c#            51597\n",
       "dtype: int64"
      ]
     },
     "execution_count": 96,
     "metadata": {},
     "output_type": "execute_result"
    },
    {
     "name": "stdout",
     "output_type": "stream",
     "text": [
      "\n",
      "next is java\n",
      "Accuracy score: 0.0\n",
      "Recall score: 0.0\n",
      "Precision score: 0.0\n",
      "F1 score: 0.0\n"
     ]
    },
    {
     "data": {
      "text/plain": [
       "0.0"
      ]
     },
     "execution_count": 96,
     "metadata": {},
     "output_type": "execute_result"
    },
    {
     "name": "stdout",
     "output_type": "stream",
     "text": [
      "\n",
      "next is javascript\n",
      "Accuracy score: 0.0\n",
      "Recall score: 0.0\n",
      "Precision score: 0.0\n",
      "F1 score: 0.0\n"
     ]
    },
    {
     "data": {
      "text/plain": [
       "0.0"
      ]
     },
     "execution_count": 96,
     "metadata": {},
     "output_type": "execute_result"
    },
    {
     "name": "stdout",
     "output_type": "stream",
     "text": [
      "\n",
      "next is c#\n",
      "Accuracy score: 0.0\n",
      "Recall score: 0.0\n",
      "Precision score: 0.0\n",
      "F1 score: 0.0\n"
     ]
    },
    {
     "data": {
      "text/plain": [
       "0.0"
      ]
     },
     "execution_count": 96,
     "metadata": {},
     "output_type": "execute_result"
    }
   ],
   "source": [
    "top = tags.value_counts()[:3]\n",
    "# print(top)\n",
    "top = mlb.transform(top.index)\n",
    "\n",
    "ii=0\n",
    "for i in top: \n",
    "    print(f'\\nnext is {tags.value_counts()[:3].index[ii][0]}')\n",
    "    y_pred = np.zeros_like(y_test)\n",
    "    for i in y_pred:\n",
    "        y_pred[i] = top[i]\n",
    "    F1=print_score(y_test, y_pred)\n",
    "    ii=ii+1"
   ]
  },
  {
   "cell_type": "code",
   "execution_count": null,
   "id": "335496db",
   "metadata": {},
   "outputs": [],
   "source": [
    "# uniqueWords = [] \n",
    "# for q in list_of_questions[:1000]:\n",
    "#     for word in q.split():\n",
    "#       if not word in uniqueWords:\n",
    "#           uniqueWords.append(word);\n",
    "          \n",
    "# len(uniqueWords)"
   ]
  },
  {
   "cell_type": "code",
   "execution_count": null,
   "id": "611a2dbf",
   "metadata": {},
   "outputs": [],
   "source": []
  },
  {
   "cell_type": "code",
   "execution_count": null,
   "id": "cdb2ae1d",
   "metadata": {},
   "outputs": [],
   "source": []
  },
  {
   "cell_type": "code",
   "execution_count": null,
   "id": "b787bdb6",
   "metadata": {},
   "outputs": [],
   "source": []
  }
 ],
 "metadata": {
  "kernelspec": {
   "display_name": "Python 3 (ipykernel)",
   "language": "python",
   "name": "python3"
  },
  "language_info": {
   "codemirror_mode": {
    "name": "ipython",
    "version": 3
   },
   "file_extension": ".py",
   "mimetype": "text/x-python",
   "name": "python",
   "nbconvert_exporter": "python",
   "pygments_lexer": "ipython3",
   "version": "3.9.7"
  }
 },
 "nbformat": 4,
 "nbformat_minor": 5
}

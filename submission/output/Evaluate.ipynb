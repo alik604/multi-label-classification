{
 "cells": [
  {
   "cell_type": "markdown",
   "id": "dffcb2ea",
   "metadata": {},
   "source": [
    "# This is a minmal code fork of `Machine learning.ipynb`\n",
    "With reduced output. Full output are in `Machine learning.ipynb`. Tt is on the \"min scores 3\" dateset, as it is much faster to run and there is not the point of failure of sharing models. "
   ]
  },
  {
   "cell_type": "code",
   "execution_count": 1,
   "id": "6a6c1eef",
   "metadata": {},
   "outputs": [],
   "source": [
    "test_size = 0.2 # default and reported \n",
    "# test_size = 0.5 # speed if you are in a hurry."
   ]
  },
  {
   "cell_type": "code",
   "execution_count": 2,
   "id": "0ced2216-5bdb-4ad7-b9ba-a45fdb2f8b22",
   "metadata": {},
   "outputs": [
    {
     "data": {
      "text/plain": [
       "True"
      ]
     },
     "execution_count": 2,
     "metadata": {},
     "output_type": "execute_result"
    }
   ],
   "source": [
    "import random\n",
    "import math\n",
    "import sys\n",
    "import gc\n",
    "import re\n",
    "import time\n",
    "import warnings\n",
    "warnings.filterwarnings('ignore')\n",
    "\n",
    "import numpy as np\n",
    "import pandas as pd\n",
    "import matplotlib.pyplot as plt\n",
    "\n",
    "from bs4 import BeautifulSoup\n",
    "from tqdm import tqdm\n",
    "\n",
    "from sklearn.model_selection import train_test_split\n",
    "from sklearn.decomposition import PCA, SparsePCA, LatentDirichletAllocation, TruncatedSVD # aka LSA\n",
    "from sklearn.preprocessing import *\n",
    "from sklearn.preprocessing import MultiLabelBinarizer\n",
    "\n",
    "\n",
    "from sklearn.feature_extraction.text import CountVectorizer, TfidfVectorizer\n",
    "from sklearn.metrics import * \n",
    "\n",
    "\n",
    "from sklearn.neural_network import MLPClassifier\n",
    "from sklearn.ensemble import BaggingClassifier # will not work for multi-label\n",
    "from sklearn.ensemble import RandomForestClassifier, ExtraTreesClassifier\n",
    "from sklearn.neighbors import RadiusNeighborsClassifier\n",
    "from sklearn.tree import ExtraTreeClassifier as ET\n",
    "from sklearn.tree import DecisionTreeClassifier\n",
    "from sklearn.neighbors import KNeighborsClassifier\n",
    "\n",
    "from tensorflow.keras.preprocessing.text import Tokenizer\n",
    "from tensorflow.keras.preprocessing.sequence import pad_sequences\n",
    "\n",
    "from IPython.core.interactiveshell import InteractiveShell\n",
    "InteractiveShell.ast_node_interactivity = \"all\"\n",
    "\n",
    "import torch\n",
    "torch.cuda.is_available()"
   ]
  },
  {
   "cell_type": "code",
   "execution_count": 3,
   "id": "9fc863f6",
   "metadata": {},
   "outputs": [],
   "source": [
    "questions = pd.read_csv('./data/questions_preprocessed_min3.csv', index_col=0)\n",
    "tags = pd.read_csv('./data/tags_preprocessed_min3.csv', index_col=0)"
   ]
  },
  {
   "cell_type": "code",
   "execution_count": 4,
   "id": "1b829b52",
   "metadata": {},
   "outputs": [
    {
     "data": {
      "text/plain": [
       "MultiLabelBinarizer()"
      ]
     },
     "execution_count": 4,
     "metadata": {},
     "output_type": "execute_result"
    },
    {
     "name": "stderr",
     "output_type": "stream",
     "text": [
      "100%|██████████| 160123/160123 [00:38<00:00, 4199.16it/s]\n"
     ]
    }
   ],
   "source": [
    "mlb = MultiLabelBinarizer()\n",
    "\n",
    "list_to_encode = tags.Tag.values\n",
    "mlb.fit(list_to_encode.reshape(-1,1))\n",
    "\n",
    "encoded = dict() \n",
    "for i in tqdm(tags.index.unique()): \n",
    "    input_ = tags.loc[i, 'Tag']\n",
    "    if (type(input_) is str):\n",
    "        input_ = np.array(input_)\n",
    "    else:   \n",
    "        input_ = input_.values\n",
    "    ouput_ = mlb.transform(input_.reshape(-1,1))\n",
    "    ouput_ = list(np.sum(ouput_, axis=0))\n",
    "    encoded[i] = ouput_"
   ]
  },
  {
   "cell_type": "code",
   "execution_count": 5,
   "id": "2b23521a",
   "metadata": {},
   "outputs": [
    {
     "name": "stderr",
     "output_type": "stream",
     "text": [
      "100%|██████████| 160123/160123 [00:00<00:00, 172732.68it/s]"
     ]
    },
    {
     "name": "stdout",
     "output_type": "stream",
     "text": [
      "length is 160123\n"
     ]
    },
    {
     "name": "stderr",
     "output_type": "stream",
     "text": [
      "\n"
     ]
    }
   ],
   "source": [
    "list_of_questions = []\n",
    "list_of_tags = []\n",
    "for i in tqdm(questions['Formatted'].index.unique()):\n",
    "    list_of_questions.append(questions['Formatted'][i])\n",
    "    list_of_tags.append(encoded[i])\n",
    "print(f'length is {len(list_of_questions)}')"
   ]
  },
  {
   "cell_type": "code",
   "execution_count": 6,
   "id": "686ef682",
   "metadata": {},
   "outputs": [],
   "source": [
    "# some of list_of_questions are nan. Im not sure how to deal with this.\n",
    "bad_idx = []\n",
    "for idx, i in enumerate(list_of_questions):\n",
    "    if type(i) is not str:\n",
    "        if math.isnan(i):\n",
    "            list_of_questions[idx] = list_of_questions[idx+1]\n",
    "            list_of_tags[idx] = list_of_tags[idx+1] "
   ]
  },
  {
   "cell_type": "code",
   "execution_count": 7,
   "id": "8d6ab68c",
   "metadata": {},
   "outputs": [
    {
     "name": "stdout",
     "output_type": "stream",
     "text": [
      "Sample question: ASP NET Site Maps Has anyone got experience creating SQL based ASP NET site map providers ve got the default XML file web sitemap working properly with my Menu and SiteMapPath controls but ll need way for the users of my site to create and modify pages dynamically need to tie page viewing permissions into the standard ASP NET membership system as well \n",
      "\n",
      "Number of tags: 2\n"
     ]
    }
   ],
   "source": [
    "print(f'Sample question: {list_of_questions[0]}\\n')\n",
    "print(f'Number of tags: {sum(list_of_tags[0])}')"
   ]
  },
  {
   "cell_type": "markdown",
   "id": "fae36a3b",
   "metadata": {},
   "source": [
    "# Experiment 1: Encoding with Tokenizer, padding sequence"
   ]
  },
  {
   "cell_type": "code",
   "execution_count": 8,
   "id": "bb78749e",
   "metadata": {},
   "outputs": [],
   "source": [
    "X_train, X_test, y_train, y_test = train_test_split(list_of_questions, list_of_tags, test_size=0.2, random_state=42)\n",
    "y_train = np.asarray(y_train)\n",
    "for i in range(len(y_train)):\n",
    "    y_train[i] = np.array(y_train[i]) \n",
    "y_test = np.asarray(y_test)\n",
    "for i in range(len(y_test)):\n",
    "    y_test[i] = np.array(y_test[i])"
   ]
  },
  {
   "cell_type": "code",
   "execution_count": 9,
   "id": "06292bb0",
   "metadata": {},
   "outputs": [],
   "source": [
    "tokenizer = Tokenizer(char_level=False, num_words=None, filters='!\"()*+,-./:;<=>?@[\\\\]^_`{|}~\\t\\n') # #$%&\n",
    "tokenizer.fit_on_texts(X_train)\n",
    "X_train = tokenizer.texts_to_sequences(X_train)\n",
    "X_test = tokenizer.texts_to_sequences(X_test)\n",
    "vocab_size = len(tokenizer.word_index) + 1\n",
    "\n",
    "maxlen = 167 # code to get mean ommited in this file\n",
    "X_train = pad_sequences(X_train, padding='post', truncating='post', maxlen=maxlen)\n",
    "X_test = pad_sequences(X_test,   padding='post', truncating='post', maxlen=maxlen)\n"
   ]
  },
  {
   "cell_type": "code",
   "execution_count": 10,
   "id": "0f7dc6bb",
   "metadata": {},
   "outputs": [],
   "source": [
    "def print_score(y_test, y_pred, clf=None):\n",
    "    with warnings.catch_warnings():\n",
    "        # print(\"Clf: \", clf.__class__.__name__)\n",
    "        print(f\"Accuracy score: {accuracy_score(y_true=y_test, y_pred=y_pred)}\")\n",
    "        print(f\"Recall score: {recall_score(y_true=y_test, y_pred=y_pred, average='weighted')}\")\n",
    "        print(f\"Precision score: {precision_score(y_true=y_test, y_pred=y_pred, average='weighted')}\")\n",
    "        f1 = f1_score(y_true=y_test, y_pred=y_pred, average='weighted')\n",
    "        print(f\"F1 score: {f1}\")\n",
    "        return f1"
   ]
  },
  {
   "cell_type": "markdown",
   "id": "801f2a9e",
   "metadata": {},
   "source": [
    "## Experiment 1 assessment - sklearn"
   ]
  },
  {
   "cell_type": "code",
   "execution_count": 10,
   "id": "ba5fd959",
   "metadata": {},
   "outputs": [
    {
     "name": "stdout",
     "output_type": "stream",
     "text": [
      "Clf:  ExtraTreesClassifier\n",
      "Accuracy score: 0.0001249024199843872\n",
      "Recall score: 0.0001756817427628882\n",
      "Precision score: 0.15602100372835698\n",
      "F1 score: 0.00035074026727097347\n",
      "Train score: 1.0\n",
      "Test score:  0.0001249024199843872\n",
      "Time taken for ExtraTreesClassifier was 55.86\n",
      "\n",
      "\n",
      "Clf:  RandomForestClassifier\n",
      "Accuracy score: 0.0019047619047619048\n",
      "Recall score: 0.0016982568467079193\n",
      "Precision score: 0.229359021908164\n",
      "F1 score: 0.0033224858662357637\n",
      "Train score: 0.8793892176302518\n",
      "Test score:  0.0019047619047619048\n",
      "Time taken for RandomForestClassifier was 91.85\n",
      "\n",
      "\n"
     ]
    }
   ],
   "source": [
    "clfs = []\n",
    "# clfs.append(DecisionTreeClassifier(random_state=42))\n",
    "clfs.append(ExtraTreesClassifier(n_estimators=15, random_state=42, n_jobs=-1))\n",
    "clfs.append(RandomForestClassifier(n_estimators=15, random_state=42, n_jobs=-1))\n",
    "# clfs.append(RadiusNeighborsClassifier(n_jobs=-1)) # takes a while\n",
    "# clfs.append(KNeighborsClassifier(n_neighbors=10, n_jobs=-1)) # untested too long\n",
    "\n",
    "for clf in clfs:\n",
    "    start = time.time()\n",
    "    _ = gc.collect()\n",
    "    _ = clf.fit(X_train, y_train)\n",
    "    print(\"Clf: \", clf.__class__.__name__)\n",
    "    F1 = print_score(y_test, clf.predict(X_test), clf)\n",
    "    print(f'Train score: {clf.score(X_train, y_train)}')\n",
    "    print(f'Test score:  {clf.score(X_test, y_test)}')\n",
    "\n",
    "    print(f'Time taken for {clf.__class__.__name__} was {time.time()-start:.2f}\\n\\n')"
   ]
  },
  {
   "cell_type": "code",
   "execution_count": 11,
   "id": "02e68703",
   "metadata": {},
   "outputs": [
    {
     "name": "stdout",
     "output_type": "stream",
     "text": [
      "Clf:  MLPClassifier\n",
      "Accuracy score: 0.0\n",
      "Recall score: 7.808077456128365e-05\n",
      "Precision score: 0.05107458665989967\n",
      "F1 score: 0.0001556840539053019\n",
      "Train score: 0.0\n",
      "Test score:  0.0\n",
      "Time taken for MLPClassifier was 104.67\n"
     ]
    },
    {
     "data": {
      "text/plain": [
       "<Figure size 576x216 with 0 Axes>"
      ]
     },
     "execution_count": 11,
     "metadata": {},
     "output_type": "execute_result"
    },
    {
     "data": {
      "text/plain": [
       "[<matplotlib.lines.Line2D at 0x21eaccb8c70>]"
      ]
     },
     "execution_count": 11,
     "metadata": {},
     "output_type": "execute_result"
    },
    {
     "data": {
      "image/png": "[encoded data removed]",
      "text/plain": [
       "<Figure size 576x216 with 1 Axes>"
      ]
     },
     "metadata": {
      "needs_background": "light"
     },
     "output_type": "display_data"
    }
   ],
   "source": [
    "start = time.time()\n",
    "\n",
    "clf = MLPClassifier(hidden_layer_sizes=(200, 100), random_state=42, max_iter=60)\n",
    "\n",
    "clf = clf.fit(X_train, y_train)\n",
    "print(\"Clf: \", clf.__class__.__name__)\n",
    "F1 = print_score(y_test, clf.predict(X_test), clf)\n",
    "print(f'Train score: {clf.score(X_train, y_train)}')\n",
    "print(f'Test score:  {clf.score(X_test, y_test)}')\n",
    "    \n",
    "print(f'Time taken for {clf.__class__.__name__} was {time.time()-start:.2f}')\n",
    "\n",
    "plt.figure(figsize=(8, 3))\n",
    "plt.plot(clf.loss_curve_)"
   ]
  },
  {
   "cell_type": "markdown",
   "id": "65bb1c55",
   "metadata": {},
   "source": [
    "### In depth Eval of MLPClassifier, via argmax of `clf.predict_proba`"
   ]
  },
  {
   "cell_type": "code",
   "execution_count": 12,
   "id": "2c98c185",
   "metadata": {},
   "outputs": [
    {
     "name": "stdout",
     "output_type": "stream",
     "text": [
      "Accuracy score: 0.03731459797033568\n",
      "Recall score: 0.12211833141384762\n",
      "Precision score: 0.035572550178473994\n",
      "F1 score: 0.04254961554891439\n",
      "\n",
      "y_pred: c#, java\n",
      "y_test: algorithm, c\n",
      "\n",
      "\n",
      "y_pred: c#, java\n",
      "y_test: generics, java\n",
      "\n",
      "\n",
      "y_pred: c#\n",
      "y_test: java\n",
      "\n",
      "\n",
      "y_pred: c#\n",
      "y_test: excel\n",
      "\n",
      "\n",
      "y_pred: c#, java\n",
      "y_test: c++, gcc\n",
      "\n",
      "\n"
     ]
    }
   ],
   "source": [
    "y_pred = clf.predict_proba(X_test)\n",
    "\n",
    "y_pred_same_number_of_tags = [] # if average tags is 2.5, we are at a disadvantage if we do 2 or 3 tags.\n",
    "for i in range(len(y_pred)):  \n",
    "    best = y_pred[i].argsort()\n",
    "    y_pred_ = np.zeros(y_pred.shape[1])\n",
    "    number_of_tags = np.sum(y_test[i])\n",
    "    y_pred_[best[-number_of_tags:]] = 1\n",
    "    y_pred_same_number_of_tags.append(y_pred_)\n",
    "    \n",
    "_ = print_score(y_test, y_pred_same_number_of_tags) \n",
    "print(\"\")\n",
    "\n",
    "for i in range(5): # how many examples to print\n",
    "    idx = np.random.randint(0, len(y_pred))\n",
    "    print(\"y_pred:\",', '.join(mlb.inverse_transform(y_pred_same_number_of_tags[idx].reshape(1,-1))[0]))\n",
    "    print(\"y_test:\",', '.join(mlb.inverse_transform(y_test[idx].reshape(1,-1))[0]))\n",
    "    print('\\n')"
   ]
  },
  {
   "cell_type": "markdown",
   "id": "1a0d90b8",
   "metadata": {},
   "source": [
    "## Experiment 1 assessment - Basic LSTM"
   ]
  },
  {
   "cell_type": "code",
   "execution_count": 11,
   "id": "b9b3cdb6",
   "metadata": {},
   "outputs": [],
   "source": [
    "vocab_size = len(tokenizer.word_index) + 1\n",
    "target_size = len(mlb.classes_)\n",
    "embedding_dim = 300"
   ]
  },
  {
   "cell_type": "code",
   "execution_count": 12,
   "id": "4273eded",
   "metadata": {},
   "outputs": [
    {
     "name": "stdout",
     "output_type": "stream",
     "text": [
      "portion of words in embedding: 0.2708\n"
     ]
    }
   ],
   "source": [
    "## Build glove embdedding matrix\n",
    "embeddings_dictionary = dict()\n",
    "# glove_file = open('.\\data\\glove.42B.300d.txt', encoding=\"utf8\")\n",
    "glove_file = open('C:\\\\glove.42B.300d.txt', encoding=\"utf8\")\n",
    "for line in glove_file: # longer, by far\n",
    "    records = line.split()\n",
    "    word = records[0]\n",
    "    vector_dimensions = np.asarray(records[1:], dtype='float32')\n",
    "    embeddings_dictionary[word] = vector_dimensions\n",
    "glove_file.close()\n",
    "\n",
    "num_words_in_embedding = 0\n",
    "# embedding_matrix = np.zeros((vocab_size, embedding_dim))\n",
    "embedding_matrix = np.random.normal(scale=0.6, size=((vocab_size, embedding_dim)))\n",
    "for word, index in tokenizer.word_index.items():\n",
    "    embedding_vector = embeddings_dictionary.get(word)\n",
    "    if embedding_vector is not None:\n",
    "        num_words_in_embedding += 1\n",
    "        embedding_matrix[index] = embedding_vector\n",
    "        \n",
    "print(f'portion of words in embedding: {num_words_in_embedding/vocab_size:.4f}')"
   ]
  },
  {
   "cell_type": "code",
   "execution_count": 13,
   "id": "aeaa088e",
   "metadata": {},
   "outputs": [],
   "source": [
    "import tensorflow.keras as keras\n",
    "from tensorflow.keras.models import Sequential\n",
    "from tensorflow.keras.layers import *\n",
    "from keras.layers.embeddings import Embedding\n",
    "from tensorflow.keras.optimizers import *\n",
    "from tensorflow.keras.callbacks import ReduceLROnPlateau, ModelCheckpoint\n",
    "from tensorflow.keras.layers import Input\n",
    "# del model, opt, lr\n",
    "\n",
    "loss = []\n",
    "acc = []\n",
    "val_loss = []\n",
    "val_acc = []\n",
    "checkpoint_file = 'ModelCheckpoint.h5'"
   ]
  },
  {
   "cell_type": "code",
   "execution_count": 14,
   "id": "95bd83ad",
   "metadata": {},
   "outputs": [],
   "source": [
    "output_dim = mlb.classes_.shape[0]\n",
    "model = Sequential() ;_=gc.collect()\n",
    "model.add(Embedding(vocab_size, embedding_dim, weights=[embedding_matrix], input_length=maxlen, trainable=False))\n",
    "model.add((Bidirectional(LSTM(64, return_sequences=True))))\n",
    "model.add(Dropout(0.05)) # technically not appropriate for a LSTM. recc_dropout is not on CuDNN\n",
    "model.add(LSTM(128))\n",
    "model.add(Dense(128, activation='relu'))\n",
    "model.add(Dropout(0.2)) \n",
    "model.add(Dense(output_dim, activation='sigmoid')) # , activation='softmax')\n",
    "\n",
    "opt = Adam(learning_rate=0.003)\n",
    "\n",
    "model.compile(loss='binary_crossentropy', optimizer=opt, metrics=['acc']) # categorical_crossentropy\n",
    "lr = ReduceLROnPlateau(monitor='val_loss', factor=0.3, patience=2, verbose=1, mode='auto', min_delta=0.0001, cooldown=0, min_lr=0.00001)\n",
    "cp = ModelCheckpoint(filepath=checkpoint_file, monitor='val_acc', save_best_only=True)"
   ]
  },
  {
   "cell_type": "code",
   "execution_count": 15,
   "id": "1c478010",
   "metadata": {},
   "outputs": [
    {
     "name": "stdout",
     "output_type": "stream",
     "text": [
      "Epoch 1/10\n",
      "476/476 [==============================] - 25s 42ms/step - loss: 0.0811 - acc: 0.0683 - val_loss: 0.0727 - val_acc: 0.0709 - lr: 0.0030\n",
      "Epoch 2/10\n",
      "476/476 [==============================] - 19s 40ms/step - loss: 0.0700 - acc: 0.1107 - val_loss: 0.0630 - val_acc: 0.1769 - lr: 0.0030\n",
      "Epoch 3/10\n",
      "476/476 [==============================] - 19s 40ms/step - loss: 0.0548 - acc: 0.3134 - val_loss: 0.0452 - val_acc: 0.4306 - lr: 0.0030\n",
      "Epoch 4/10\n",
      "476/476 [==============================] - 19s 40ms/step - loss: 0.0419 - acc: 0.4848 - val_loss: 0.0374 - val_acc: 0.5199 - lr: 0.0030\n",
      "Epoch 5/10\n",
      "476/476 [==============================] - 19s 40ms/step - loss: 0.0361 - acc: 0.5473 - val_loss: 0.0336 - val_acc: 0.5539 - lr: 0.0030\n",
      "Epoch 6/10\n",
      "476/476 [==============================] - 19s 41ms/step - loss: 0.0327 - acc: 0.5742 - val_loss: 0.0315 - val_acc: 0.5655 - lr: 0.0030\n",
      "Epoch 7/10\n",
      "476/476 [==============================] - 19s 40ms/step - loss: 0.0306 - acc: 0.5903 - val_loss: 0.0302 - val_acc: 0.5775 - lr: 0.0030\n",
      "Epoch 8/10\n",
      "476/476 [==============================] - 19s 40ms/step - loss: 0.0291 - acc: 0.6011 - val_loss: 0.0299 - val_acc: 0.5869 - lr: 0.0030\n",
      "Epoch 9/10\n",
      "476/476 [==============================] - 19s 40ms/step - loss: 0.0279 - acc: 0.6114 - val_loss: 0.0294 - val_acc: 0.5888 - lr: 0.0030\n",
      "Epoch 10/10\n",
      "476/476 [==============================] - 16s 33ms/step - loss: 0.0269 - acc: 0.6191 - val_loss: 0.0287 - val_acc: 0.5881 - lr: 0.0030\n"
     ]
    }
   ],
   "source": [
    "# model = keras.models.load_model(\"keras_lstm.h5\")\n",
    "# model.layers[0].trainable = True\n",
    "history = model.fit(X_train, y_train, validation_split=0.05, epochs=10, batch_size=256, verbose=1, callbacks=[lr, cp])\n",
    "loss.extend(history.history['loss'])\n",
    "acc.extend(history.history['acc'])\n",
    "val_loss.extend(history.history['val_loss'])\n",
    "val_acc.extend(history.history['val_acc'])"
   ]
  },
  {
   "cell_type": "code",
   "execution_count": 17,
   "id": "04f9b990",
   "metadata": {},
   "outputs": [
    {
     "name": "stdout",
     "output_type": "stream",
     "text": [
      "Accuracy score: 0.6020921155347385\n",
      "Recall score: 0.715629819047805\n",
      "Precision score: 0.7067962826606747\n",
      "F1 score: 0.6987501662669586\n",
      "y_pred: php\n",
      "y_test: php\n",
      "\n",
      "\n",
      "y_pred: c++\n",
      "y_test: c++\n",
      "\n",
      "\n",
      "y_pred: android\n",
      "y_test: android\n",
      "\n",
      "\n"
     ]
    }
   ],
   "source": [
    "def test_keras_model(print_sample=False, X_test=X_test, model=model, y_test=y_test, topN=2):  \n",
    "    y_pred = model.predict(X_test)\n",
    "    y_pred_same_number_of_tags = [] # if average tags is 2.5, we are at a disadvantage if we do 2 or 3 tags.\n",
    "    \n",
    "    for i in range(len(y_pred)):  \n",
    "        best = y_pred[i].argsort()\n",
    "        y_pred_ = np.zeros(y_pred.shape[1])\n",
    "        number_of_tags = np.sum(y_test[i])\n",
    "        y_pred_[best[-number_of_tags:]] = 1\n",
    "        y_pred_same_number_of_tags.append(y_pred_)\n",
    "        \n",
    "    _ = print_score(y_test, y_pred_same_number_of_tags) \n",
    "\n",
    "    # if print_sample:\n",
    "    for i in range(print_sample):\n",
    "        idx = np.random.randint(0, len(y_pred))\n",
    "        print(\"y_pred:\",', '.join(mlb.inverse_transform(y_pred_same_number_of_tags[idx].reshape(1,-1))[0]))\n",
    "        print(\"y_test:\",', '.join(mlb.inverse_transform(y_test[idx].reshape(1,-1))[0]))\n",
    "        print('\\n')\n",
    "\n",
    "test_keras_model(print_sample=3)"
   ]
  },
  {
   "cell_type": "code",
   "execution_count": 18,
   "id": "67eb7512",
   "metadata": {},
   "outputs": [
    {
     "name": "stdout",
     "output_type": "stream",
     "text": [
      "Epoch 1/5\n",
      "476/476 [==============================] - 18s 38ms/step - loss: 0.0261 - acc: 0.6248 - val_loss: 0.0291 - val_acc: 0.5777 - lr: 0.0030\n",
      "Epoch 2/5\n",
      "476/476 [==============================] - 18s 38ms/step - loss: 0.0253 - acc: 0.6283 - val_loss: 0.0288 - val_acc: 0.5861 - lr: 0.0030\n",
      "Epoch 3/5\n",
      "476/476 [==============================] - 22s 45ms/step - loss: 0.0246 - acc: 0.6338 - val_loss: 0.0288 - val_acc: 0.5923 - lr: 0.0030\n",
      "Epoch 4/5\n",
      "476/476 [==============================] - ETA: 0s - loss: 0.0240 - acc: 0.6401\n",
      "Epoch 00004: ReduceLROnPlateau reducing learning rate to 0.0009000000078231095.\n",
      "476/476 [==============================] - 18s 38ms/step - loss: 0.0240 - acc: 0.6401 - val_loss: 0.0291 - val_acc: 0.5874 - lr: 0.0030\n",
      "Epoch 5/5\n",
      "476/476 [==============================] - 18s 38ms/step - loss: 0.0223 - acc: 0.6537 - val_loss: 0.0290 - val_acc: 0.5895 - lr: 9.0000e-04\n"
     ]
    }
   ],
   "source": [
    "_=gc.collect()\n",
    "model.layers[0].trainable = True\n",
    "history = model.fit(X_train, y_train, validation_split=0.05, epochs=5, batch_size=256, verbose=1, callbacks=[lr, cp])\n",
    "# model.save(\"keras_lstm_min_3_score.h5\")\n",
    "\n",
    "loss.extend(history.history['loss'])\n",
    "acc.extend(history.history['acc'])\n",
    "val_loss.extend(history.history['val_loss'])\n",
    "val_acc.extend(history.history['val_acc'])\n",
    "\n",
    "# furture taining is omited from this file, I decreased LR and batch size"
   ]
  },
  {
   "cell_type": "markdown",
   "id": "92d16d29",
   "metadata": {},
   "source": [
    "#### This will print the top five most likely tags, and then the 4 metrics, in a manner such the the network preds the same number of tags as the ground truth"
   ]
  },
  {
   "cell_type": "code",
   "execution_count": 19,
   "id": "f03b7569",
   "metadata": {},
   "outputs": [
    {
     "name": "stdout",
     "output_type": "stream",
     "text": [
      "y_pred: c++, math, matlab, performance, r\n",
      "y_test: r\n",
      "\n",
      "\n",
      "y_pred: c++, c++11, exception, multithreading, python\n",
      "y_test: c#, python\n",
      "\n",
      "\n",
      "y_pred: database, hibernate, java, scala, spring\n",
      "y_test: java\n",
      "\n",
      "\n",
      "y_pred: asp.net, asp.net-mvc, c#, html, html5\n",
      "y_test: asp.net-mvc\n",
      "\n",
      "\n",
      "y_pred: .net, c#, exception, multithreading, oop\n",
      "y_test: c#\n",
      "\n",
      "\n",
      "LSTM model scores\n",
      "Accuracy score: 0.6121779859484777\n",
      "Recall score: 0.7236135782466963\n",
      "Precision score: 0.7136606726367574\n",
      "F1 score: 0.7096425380788987\n"
     ]
    }
   ],
   "source": [
    "model.load_weights(checkpoint_file)\n",
    "y_pred = model.predict(X_test)\n",
    "\n",
    "topN = 5\n",
    "y_pred_top = np.zeros_like(y_pred)\n",
    "for i in range(y_pred.shape[0]):\n",
    "    best = y_pred[i].argsort()\n",
    "    y_pred_ = np.zeros(y_pred.shape[1])\n",
    "    y_pred_[best[-topN:]] = 1\n",
    "    y_pred_top[i] = y_pred_\n",
    "\n",
    "for i in range(5): # how many examples to print\n",
    "    idx = np.random.randint(0, len(y_pred))\n",
    "    print(\"y_pred:\",', '.join(mlb.inverse_transform(y_pred_top[idx].reshape(1,-1))[0]))\n",
    "    print(\"y_test:\",', '.join(mlb.inverse_transform(y_test[idx].reshape(1,-1))[0]))\n",
    "    print('\\n')\n",
    "    \n",
    "\n",
    "y_pred_same_number_of_tags = [] # if average tags is 2.5, we are at a disadvantage if we do 2 or 3 tags.\n",
    "for i in range(len(y_pred)):  \n",
    "    best = y_pred[i].argsort()\n",
    "    y_pred_ = np.zeros(y_pred.shape[1])\n",
    "    number_of_tags = np.sum(y_test[i])\n",
    "    y_pred_[best[-number_of_tags:]] = 1\n",
    "    y_pred_same_number_of_tags.append(y_pred_)\n",
    "    \n",
    "print(f'LSTM model scores')\n",
    "_ = print_score(y_test, y_pred_same_number_of_tags) "
   ]
  },
  {
   "cell_type": "markdown",
   "id": "627b8756",
   "metadata": {},
   "source": [
    "```\n",
    "on the all scores dataset \"questions_preprocessed.csv\"\n",
    "2963/2963 [==============================] - 85s 29ms/step - loss: 0.0199 - acc: 0.6533 - val_loss: 0.0242 - val_acc: 0.6135 - lr: 5.0000e-04\n",
    "\n",
    "Accuracy score: 0.6504909819639279\n",
    "Recall score: 0.7615028687766056\n",
    "Precision score: 0.7574494222705919\n",
    "F1 score: 0.7544918807953225\n",
    "\n",
    "\n",
    "on the min 3 scores dataset \"questions_preprocessed_min3.csv\"\n",
    "\n",
    "1902/1902 [==============================] - 47s 25ms/step - loss: 0.0195 - acc: 0.6716 - val_loss: 0.0313 - val_acc: 0.5739 - lr: 1.5000e-04\n",
    "\n",
    "Accuracy score: 0.6123965651834504\n",
    "Recall score: 0.7221690839173125\n",
    "Precision score: 0.7139613396235852\n",
    "F1 score: 0.714711189087093\n",
    "\n",
    "\n",
    "```"
   ]
  },
  {
   "cell_type": "code",
   "execution_count": null,
   "id": "b3f317e8",
   "metadata": {},
   "outputs": [],
   "source": []
  },
  {
   "cell_type": "code",
   "execution_count": 20,
   "id": "a556b5a2",
   "metadata": {},
   "outputs": [
    {
     "data": {
      "text/plain": [
       "<Figure size 864x576 with 0 Axes>"
      ]
     },
     "execution_count": 20,
     "metadata": {},
     "output_type": "execute_result"
    },
    {
     "data": {
      "text/plain": [
       "Text(0.5, 1.0, 'LSTM w/ GloVe Loss BCE')"
      ]
     },
     "execution_count": 20,
     "metadata": {},
     "output_type": "execute_result"
    },
    {
     "data": {
      "text/plain": [
       "[<matplotlib.lines.Line2D at 0x1c3567eb3d0>]"
      ]
     },
     "execution_count": 20,
     "metadata": {},
     "output_type": "execute_result"
    },
    {
     "data": {
      "text/plain": [
       "[<matplotlib.lines.Line2D at 0x1c193ef4a90>]"
      ]
     },
     "execution_count": 20,
     "metadata": {},
     "output_type": "execute_result"
    },
    {
     "data": {
      "text/plain": [
       "<matplotlib.legend.Legend at 0x1c193ee4880>"
      ]
     },
     "execution_count": 20,
     "metadata": {},
     "output_type": "execute_result"
    },
    {
     "data": {
      "image/png": "[encoded data removed]",
      "text/plain": [
       "<Figure size 864x576 with 1 Axes>"
      ]
     },
     "metadata": {
      "needs_background": "light"
     },
     "output_type": "display_data"
    }
   ],
   "source": [
    "plt.figure(figsize=(12,8))\n",
    "plt.title('LSTM w/ GloVe Loss BCE')\n",
    "plt.plot(loss, label='train loss')\n",
    "plt.plot(val_loss, label='val loss')\n",
    "plt.legend()\n",
    "plt.show()"
   ]
  },
  {
   "cell_type": "markdown",
   "id": "897a2211",
   "metadata": {},
   "source": [
    "# Expirement 2: Encoding with TfidfVectorizer\n",
    "> the following stats are for the `tags_preprocessed.csv` dataset"
   ]
  },
  {
   "cell_type": "code",
   "execution_count": 21,
   "id": "5c5a5a2a",
   "metadata": {},
   "outputs": [
    {
     "name": "stdout",
     "output_type": "stream",
     "text": [
      "The number of features is 3380\n"
     ]
    }
   ],
   "source": [
    "stop_words = None # there are maybe 300 stop words, and thousands of other features. i'm inclined to keep them around\n",
    "min_df=318 # 3378 features\n",
    "\n",
    "vectorizer = TfidfVectorizer(strip_accents='unicode', ngram_range=(1, 1), stop_words=stop_words, min_df=min_df)\n",
    "docs       = vectorizer.fit_transform(list_of_questions)\n",
    "features   = vectorizer.get_feature_names()\n",
    "print(f'The number of features is {len(features)}')"
   ]
  },
  {
   "cell_type": "code",
   "execution_count": 22,
   "id": "bb6054cb",
   "metadata": {},
   "outputs": [
    {
     "name": "stdout",
     "output_type": "stream",
     "text": [
      "The number of samples is 160123 \n",
      "The number of features is 3380\n"
     ]
    }
   ],
   "source": [
    "print(f'The number of samples is {docs.shape[0]} \\nThe number of features is {docs.shape[1]}')\n",
    "\n",
    "X_train, X_test, y_train, y_test = train_test_split(docs, list_of_tags, test_size=0.2, random_state=42)\n",
    "\n",
    "y_train = np.asarray(y_train)\n",
    "for i in range(len(y_train)):\n",
    "    y_train[i] = np.array(y_train[i])\n",
    "y_test = np.asarray(y_test)\n",
    "for i in range(len(y_test)):\n",
    "    y_test[i] = np.array(y_test[i])"
   ]
  },
  {
   "cell_type": "code",
   "execution_count": 23,
   "id": "fb91ca22",
   "metadata": {},
   "outputs": [
    {
     "name": "stdout",
     "output_type": "stream",
     "text": [
      "Clf:  ExtraTreesClassifier\n",
      "Accuracy score: 0.2553942232630757\n",
      "Recall score: 0.30502254582365457\n",
      "Precision score: 0.7926059155735715\n",
      "F1 score: 0.41497574107200613\n",
      "Train score: 1.0\n",
      "Test score:  0.2553942232630757\n",
      "Time taken for ExtraTreesClassifier was 169.82\n",
      "\n",
      "\n",
      "Clf:  RandomForestClassifier\n",
      "Accuracy score: 0.3110070257611241\n",
      "Recall score: 0.38956450447988444\n",
      "Precision score: 0.7770160992569072\n",
      "F1 score: 0.48845383878318743\n",
      "Train score: 0.953324798201377\n",
      "Test score:  0.3110070257611241\n",
      "Time taken for RandomForestClassifier was 182.87\n",
      "\n",
      "\n"
     ]
    }
   ],
   "source": [
    "clfs = []\n",
    "# clfs.append(DecisionTreeClassifier(random_state=42))\n",
    "clfs.append(ExtraTreesClassifier(n_estimators=10, random_state=42, n_jobs=3))\n",
    "clfs.append(RandomForestClassifier(n_estimators=15, random_state=42, n_jobs=3))\n",
    "# clfs.append(RadiusNeighborsClassifier(n_jobs=-1))\n",
    "\n",
    "# clfs.append(KNeighborsClassifier(n_neighbors=10, n_jobs=-1)) # untested\n",
    "\n",
    "for clf in clfs:\n",
    "    start = time.time()\n",
    "    _ = gc.collect()\n",
    "    _ = clf.fit(X_train, y_train)\n",
    "    \n",
    "    print(\"Clf: \", clf.__class__.__name__)\n",
    "    f1 = print_score(y_test, clf.predict(X_test))\n",
    "    print(f'Train score: {clf.score(X_train, y_train)}')\n",
    "    print(f'Test score:  {clf.score(X_test, y_test)}')\n",
    "\n",
    "    print(f'Time taken for {clf.__class__.__name__} was {time.time()-start:.2f}\\n\\n')"
   ]
  },
  {
   "cell_type": "code",
   "execution_count": 28,
   "id": "440d1258",
   "metadata": {},
   "outputs": [
    {
     "name": "stdout",
     "output_type": "stream",
     "text": [
      "Caution MLPClassifier can take long to train. I suggest max_iter=30 for performance, less for speed\n",
      "Clf:  MLPClassifier\n",
      "Accuracy score: 0.38348165495706477\n",
      "Recall score: 0.559429229537957\n",
      "Precision score: 0.750342277479494\n",
      "F1 score: 0.6331531529800235\n",
      "Train score: 0.4696248184983372\n",
      "Test score:  0.38348165495706477\n",
      "Time taken for MLPClassifier was 197.60\n"
     ]
    },
    {
     "data": {
      "text/plain": [
       "<Figure size 432x216 with 0 Axes>"
      ]
     },
     "execution_count": 28,
     "metadata": {},
     "output_type": "execute_result"
    },
    {
     "data": {
      "text/plain": [
       "[<matplotlib.lines.Line2D at 0x1c393b295e0>]"
      ]
     },
     "execution_count": 28,
     "metadata": {},
     "output_type": "execute_result"
    },
    {
     "data": {
      "image/png": "[encoded data removed]",
      "text/plain": [
       "<Figure size 432x216 with 1 Axes>"
      ]
     },
     "metadata": {
      "needs_background": "light"
     },
     "output_type": "display_data"
    }
   ],
   "source": [
    "print('Caution MLPClassifier can take long to train. I suggest max_iter=30 for performance, less for speed')\n",
    "start = time.time()\n",
    "\n",
    "# clf = MLPClassifier(hidden_layer_sizes=(512, 100), random_state=42, max_iter=5)\n",
    "clf = MLPClassifier(hidden_layer_sizes=(100), random_state=42, max_iter=15) # faster for eval\n",
    "\n",
    "clf = clf.fit(X_train, y_train)\n",
    "\n",
    "print(\"Clf: \", clf.__class__.__name__)\n",
    "f1 = print_score(y_test, clf.predict(X_test))\n",
    "print(f'Train score: {clf.score(X_train, y_train)}')\n",
    "print(f'Test score:  {clf.score(X_test, y_test)}')\n",
    "    \n",
    "print(f'Time taken for {clf.__class__.__name__} was {time.time()-start:.2f}')\n",
    "\n",
    "plt.figure(figsize=(6,3))\n",
    "plt.plot(clf.loss_curve_)\n",
    "\n",
    "# This is very slow. 30 mins\n",
    "# Clf:  MLPClassifier\n",
    "# Accuracy score: 0.33423887587822015\n",
    "# Recall score: 0.5944094165414121\n",
    "# Precision score: 0.6495997459270161\n",
    "# F1 score: 0.6191668671471201\n",
    "# Train score: 0.9959952536339365\n",
    "# Test score:  0.33423887587822015\n",
    "# Time taken for MLPClassifier was 1801.59"
   ]
  },
  {
   "cell_type": "code",
   "execution_count": 29,
   "id": "3ba38358",
   "metadata": {},
   "outputs": [],
   "source": [
    "del clfs\n",
    "_=gc.collect()"
   ]
  },
  {
   "cell_type": "code",
   "execution_count": 31,
   "id": "4a2030e1",
   "metadata": {},
   "outputs": [
    {
     "name": "stdout",
     "output_type": "stream",
     "text": [
      "Accuracy score: 0.4272287275565964\n",
      "Recall score: 0.5299146967537918\n",
      "Precision score: 0.7665302501064949\n",
      "F1 score: 0.6062759884972048\n"
     ]
    }
   ],
   "source": [
    "y_pred_same_number_of_tags = [] # if average tags is 2.5, we are at a disadvantage if we do 2 or 3 tags.\n",
    "for i in range(len(y_pred)):  \n",
    "    best = y_pred[i].argsort()\n",
    "    y_pred_ = np.zeros(y_pred.shape[1])\n",
    "    number_of_tags = np.sum(y_test[i])\n",
    "    y_pred_[best[-number_of_tags:]] = 1\n",
    "    y_pred_same_number_of_tags.append(y_pred_)\n",
    "_ = print_score(y_test, y_pred_same_number_of_tags) \n",
    "\n",
    "\n",
    "# Accuracy score: 0.41033567525370807\n",
    "# Recall score: 0.5303246208202386\n",
    "# Precision score: 0.6853284607898511\n",
    "# F1 score: 0.585585014891463"
   ]
  },
  {
   "cell_type": "code",
   "execution_count": 32,
   "id": "8211c161",
   "metadata": {},
   "outputs": [
    {
     "name": "stdout",
     "output_type": "stream",
     "text": [
      "Train set\n",
      "Accuracy score: 0.4696248184983372\n",
      "Recall score: 0.6360403807213358\n",
      "Precision score: 0.8345773418819336\n",
      "F1 score: 0.7106119253997064\n",
      "Test set\n",
      "Accuracy score: 0.38348165495706477\n",
      "Recall score: 0.559429229537957\n",
      "Precision score: 0.750342277479494\n",
      "F1 score: 0.6331531529800235\n"
     ]
    }
   ],
   "source": [
    "# without ensuring the same number of tags, we are at a disadvantage if we do 2 or 3 tags.\n",
    "\n",
    "print(\"Train set\")\n",
    "_ = print_score(y_train, clf.predict(X_train)) \n",
    "\n",
    "print(\"Test set\")\n",
    "_ = print_score(y_test, y_pred) \n",
    "\n",
    "# Train set\n",
    "# Accuracy score: 0.9959952536339365\n",
    "# Recall score: 0.9989239633364962\n",
    "# Precision score: 0.998521101023201\n",
    "# F1 score: 0.9987211981852843\n",
    "# Test set\n",
    "# Accuracy score: 0.33423887587822015\n",
    "# Recall score: 0.5944094165414121\n",
    "# Precision score: 0.6495997459270161\n",
    "# F1 score: 0.6191668671471201"
   ]
  },
  {
   "cell_type": "code",
   "execution_count": 36,
   "id": "a7fc7f9c",
   "metadata": {},
   "outputs": [
    {
     "name": "stdout",
     "output_type": "stream",
     "text": [
      "y_pred_same_number_of_tags: android\n",
      "y_pred: android\n",
      "y_test: android\n",
      "\n",
      "\n",
      "y_pred_same_number_of_tags: python, xml\n",
      "y_pred: python\n",
      "y_test: image, python\n",
      "\n",
      "\n",
      "y_pred_same_number_of_tags: oop, xml\n",
      "y_pred: oop\n",
      "y_test: c++, oop\n",
      "\n",
      "\n",
      "y_pred_same_number_of_tags: xml\n",
      "y_pred: \n",
      "y_test: oracle\n",
      "\n",
      "\n",
      "y_pred_same_number_of_tags: css, google-chrome, html, xml\n",
      "y_pred: css, html\n",
      "y_test: css, javascript, jquery, twitter-bootstrap\n",
      "\n",
      "\n"
     ]
    }
   ],
   "source": [
    "y_pred = clf.predict(X_test[:])\n",
    "for i in range(5):\n",
    "    idx = np.random.randint(0, len(y_pred))\n",
    "    print(\"y_pred_same_number_of_tags:\",', '.join(mlb.inverse_transform(y_pred_same_number_of_tags[idx].reshape(1,-1))[0]))\n",
    "    print(\"y_pred:\",', '.join(mlb.inverse_transform(y_pred[idx].reshape(1,-1))[0]))\n",
    "    print(\"y_test:\",', '.join(mlb.inverse_transform(y_test[idx].reshape(1,-1))[0]))\n",
    "    print('\\n')\n"
   ]
  },
  {
   "cell_type": "code",
   "execution_count": null,
   "id": "1e8a671a",
   "metadata": {},
   "outputs": [],
   "source": []
  }
 ],
 "metadata": {
  "kernelspec": {
   "display_name": "Python 3 (ipykernel)",
   "language": "python",
   "name": "python3"
  },
  "language_info": {
   "codemirror_mode": {
    "name": "ipython",
    "version": 3
   },
   "file_extension": ".py",
   "mimetype": "text/x-python",
   "name": "python",
   "nbconvert_exporter": "python",
   "pygments_lexer": "ipython3",
   "version": "3.9.7"
  }
 },
 "nbformat": 4,
 "nbformat_minor": 5
}

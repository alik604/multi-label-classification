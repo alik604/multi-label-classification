{
 "cells": [
  {
   "cell_type": "code",
   "execution_count": 54,
   "id": "0ced2216-5bdb-4ad7-b9ba-a45fdb2f8b22",
   "metadata": {},
   "outputs": [],
   "source": [
    "import sys\n",
    "import gc\n",
    "import re\n",
    "import warnings\n",
    "warnings.filterwarnings('ignore')\n",
    "\n",
    "import numpy as np\n",
    "import pandas as pd\n",
    "import matplotlib.pyplot as plt\n",
    "\n",
    "from bs4 import BeautifulSoup\n",
    "from tqdm import tqdm\n",
    "\n",
    "from tensorflow.keras.preprocessing.text import Tokenizer\n",
    "\n",
    "from IPython.core.interactiveshell import InteractiveShell\n",
    "InteractiveShell.ast_node_interactivity = \"all\" "
   ]
  },
  {
   "cell_type": "markdown",
   "id": "824c6050",
   "metadata": {},
   "source": [
    "# Data preprocessing"
   ]
  },
  {
   "cell_type": "code",
   "execution_count": 55,
   "id": "5e3e45e2-8d50-46d4-a3ec-c826e9a6392d",
   "metadata": {},
   "outputs": [
    {
     "data": {
      "text/plain": [
       "38200"
      ]
     },
     "execution_count": 55,
     "metadata": {},
     "output_type": "execute_result"
    }
   ],
   "source": [
    "questions = pd.read_csv('./data/Questions.csv', encoding=\"ISO-8859-1\")\n",
    "# answers = pd.read_csv('./data/Answers.csv', encoding=\"ISO-8859-1\")\n",
    "tags = pd.read_csv('./data/Tags.csv', encoding=\"ISO-8859-1\")\n",
    "gc.collect() # for reruns of the notebook"
   ]
  },
  {
   "cell_type": "code",
   "execution_count": 56,
   "id": "9f378067-9756-4765-a4b3-12a64d0a04a0",
   "metadata": {},
   "outputs": [
    {
     "name": "stdout",
     "output_type": "stream",
     "text": [
      "[DF size] questions shape: (1264216, 7)\n",
      "[DF size] tags shape: (3750994, 2)\n"
     ]
    },
    {
     "data": {
      "text/html": [
       "<div>\n",
       "<style scoped>\n",
       "    .dataframe tbody tr th:only-of-type {\n",
       "        vertical-align: middle;\n",
       "    }\n",
       "\n",
       "    .dataframe tbody tr th {\n",
       "        vertical-align: top;\n",
       "    }\n",
       "\n",
       "    .dataframe thead th {\n",
       "        text-align: right;\n",
       "    }\n",
       "</style>\n",
       "<table border=\"1\" class=\"dataframe\">\n",
       "  <thead>\n",
       "    <tr style=\"text-align: right;\">\n",
       "      <th></th>\n",
       "      <th>Id</th>\n",
       "      <th>OwnerUserId</th>\n",
       "      <th>CreationDate</th>\n",
       "      <th>ClosedDate</th>\n",
       "      <th>Score</th>\n",
       "      <th>Title</th>\n",
       "      <th>Body</th>\n",
       "    </tr>\n",
       "  </thead>\n",
       "  <tbody>\n",
       "    <tr>\n",
       "      <th>0</th>\n",
       "      <td>80</td>\n",
       "      <td>26.0</td>\n",
       "      <td>2008-08-01T13:57:07Z</td>\n",
       "      <td>NaN</td>\n",
       "      <td>26</td>\n",
       "      <td>SQLStatement.execute() - multiple queries in o...</td>\n",
       "      <td>&lt;p&gt;I've written a database generation script i...</td>\n",
       "    </tr>\n",
       "    <tr>\n",
       "      <th>1</th>\n",
       "      <td>90</td>\n",
       "      <td>58.0</td>\n",
       "      <td>2008-08-01T14:41:24Z</td>\n",
       "      <td>2012-12-26T03:45:49Z</td>\n",
       "      <td>144</td>\n",
       "      <td>Good branching and merging tutorials for Torto...</td>\n",
       "      <td>&lt;p&gt;Are there any really good tutorials explain...</td>\n",
       "    </tr>\n",
       "    <tr>\n",
       "      <th>2</th>\n",
       "      <td>120</td>\n",
       "      <td>83.0</td>\n",
       "      <td>2008-08-01T15:50:08Z</td>\n",
       "      <td>NaN</td>\n",
       "      <td>21</td>\n",
       "      <td>ASP.NET Site Maps</td>\n",
       "      <td>&lt;p&gt;Has anyone got experience creating &lt;strong&gt;...</td>\n",
       "    </tr>\n",
       "    <tr>\n",
       "      <th>3</th>\n",
       "      <td>180</td>\n",
       "      <td>2089740.0</td>\n",
       "      <td>2008-08-01T18:42:19Z</td>\n",
       "      <td>NaN</td>\n",
       "      <td>53</td>\n",
       "      <td>Function for creating color wheels</td>\n",
       "      <td>&lt;p&gt;This is something I've pseudo-solved many t...</td>\n",
       "    </tr>\n",
       "    <tr>\n",
       "      <th>4</th>\n",
       "      <td>260</td>\n",
       "      <td>91.0</td>\n",
       "      <td>2008-08-01T23:22:08Z</td>\n",
       "      <td>NaN</td>\n",
       "      <td>49</td>\n",
       "      <td>Adding scripting functionality to .NET applica...</td>\n",
       "      <td>&lt;p&gt;I have a little game written in C#. It uses...</td>\n",
       "    </tr>\n",
       "  </tbody>\n",
       "</table>\n",
       "</div>"
      ],
      "text/plain": [
       "    Id  OwnerUserId          CreationDate            ClosedDate  Score  \\\n",
       "0   80         26.0  2008-08-01T13:57:07Z                   NaN     26   \n",
       "1   90         58.0  2008-08-01T14:41:24Z  2012-12-26T03:45:49Z    144   \n",
       "2  120         83.0  2008-08-01T15:50:08Z                   NaN     21   \n",
       "3  180    2089740.0  2008-08-01T18:42:19Z                   NaN     53   \n",
       "4  260         91.0  2008-08-01T23:22:08Z                   NaN     49   \n",
       "\n",
       "                                               Title  \\\n",
       "0  SQLStatement.execute() - multiple queries in o...   \n",
       "1  Good branching and merging tutorials for Torto...   \n",
       "2                                  ASP.NET Site Maps   \n",
       "3                 Function for creating color wheels   \n",
       "4  Adding scripting functionality to .NET applica...   \n",
       "\n",
       "                                                Body  \n",
       "0  <p>I've written a database generation script i...  \n",
       "1  <p>Are there any really good tutorials explain...  \n",
       "2  <p>Has anyone got experience creating <strong>...  \n",
       "3  <p>This is something I've pseudo-solved many t...  \n",
       "4  <p>I have a little game written in C#. It uses...  "
      ]
     },
     "execution_count": 56,
     "metadata": {},
     "output_type": "execute_result"
    },
    {
     "data": {
      "text/html": [
       "<div>\n",
       "<style scoped>\n",
       "    .dataframe tbody tr th:only-of-type {\n",
       "        vertical-align: middle;\n",
       "    }\n",
       "\n",
       "    .dataframe tbody tr th {\n",
       "        vertical-align: top;\n",
       "    }\n",
       "\n",
       "    .dataframe thead th {\n",
       "        text-align: right;\n",
       "    }\n",
       "</style>\n",
       "<table border=\"1\" class=\"dataframe\">\n",
       "  <thead>\n",
       "    <tr style=\"text-align: right;\">\n",
       "      <th></th>\n",
       "      <th>Id</th>\n",
       "      <th>Tag</th>\n",
       "    </tr>\n",
       "  </thead>\n",
       "  <tbody>\n",
       "    <tr>\n",
       "      <th>0</th>\n",
       "      <td>80</td>\n",
       "      <td>flex</td>\n",
       "    </tr>\n",
       "    <tr>\n",
       "      <th>1</th>\n",
       "      <td>80</td>\n",
       "      <td>actionscript-3</td>\n",
       "    </tr>\n",
       "    <tr>\n",
       "      <th>2</th>\n",
       "      <td>80</td>\n",
       "      <td>air</td>\n",
       "    </tr>\n",
       "    <tr>\n",
       "      <th>3</th>\n",
       "      <td>90</td>\n",
       "      <td>svn</td>\n",
       "    </tr>\n",
       "    <tr>\n",
       "      <th>4</th>\n",
       "      <td>90</td>\n",
       "      <td>tortoisesvn</td>\n",
       "    </tr>\n",
       "  </tbody>\n",
       "</table>\n",
       "</div>"
      ],
      "text/plain": [
       "   Id             Tag\n",
       "0  80            flex\n",
       "1  80  actionscript-3\n",
       "2  80             air\n",
       "3  90             svn\n",
       "4  90     tortoisesvn"
      ]
     },
     "execution_count": 56,
     "metadata": {},
     "output_type": "execute_result"
    }
   ],
   "source": [
    "print(f'[DF size] questions shape: {questions.shape}')\n",
    "print(f'[DF size] tags shape: {tags.shape}')\n",
    "\n",
    "questions.head()\n",
    "# answers.head()\n",
    "tags.head()"
   ]
  },
  {
   "cell_type": "markdown",
   "id": "f80758a3",
   "metadata": {},
   "source": [
    "## There is a need to discard unneeded data\n",
    "`answers` is not relevant to our target problem. It may aid tagging accuracy & F-score, but it will not be available in real life  "
   ]
  },
  {
   "cell_type": "code",
   "execution_count": 57,
   "id": "a549b091",
   "metadata": {},
   "outputs": [
    {
     "name": "stdout",
     "output_type": "stream",
     "text": [
      "memory footprint of question. Two ways to compute\n"
     ]
    },
    {
     "data": {
      "text/plain": [
       "2164588917"
      ]
     },
     "execution_count": 57,
     "metadata": {},
     "output_type": "execute_result"
    },
    {
     "data": {
      "text/plain": [
       "2164588901"
      ]
     },
     "execution_count": 57,
     "metadata": {},
     "output_type": "execute_result"
    },
    {
     "name": "stdout",
     "output_type": "stream",
     "text": [
      "memory footprint of tags\n"
     ]
    },
    {
     "data": {
      "text/plain": [
       "272589961"
      ]
     },
     "execution_count": 57,
     "metadata": {},
     "output_type": "execute_result"
    }
   ],
   "source": [
    "# Memory footprint\n",
    "print('memory footprint of question. Two ways to compute')\n",
    "sys.getsizeof(questions)\n",
    "questions.memory_usage(deep=True).values.sum()\n",
    "\n",
    "# print('memory footprint of answers')\n",
    "# answers.memory_usage(deep=True).values.sum()\n",
    "\n",
    "print('memory footprint of tags')\n",
    "tags.memory_usage(deep=True).values.sum()\n",
    "\n",
    "# del answers"
   ]
  },
  {
   "cell_type": "code",
   "execution_count": 58,
   "id": "5a6f34cc",
   "metadata": {},
   "outputs": [],
   "source": [
    "## This too decreases the memory footprint\n",
    "questions = questions.set_index('Id').sort_index()\n",
    "tags = tags.set_index('Id').sort_index()"
   ]
  },
  {
   "cell_type": "code",
   "execution_count": 59,
   "id": "a37d6782",
   "metadata": {},
   "outputs": [
    {
     "data": {
      "text/plain": [
       "(1264216, 6)"
      ]
     },
     "execution_count": 59,
     "metadata": {},
     "output_type": "execute_result"
    },
    {
     "data": {
      "text/plain": [
       "(3750994, 1)"
      ]
     },
     "execution_count": 59,
     "metadata": {},
     "output_type": "execute_result"
    },
    {
     "data": {
      "text/plain": [
       "(3750994, 7)"
      ]
     },
     "execution_count": 59,
     "metadata": {},
     "output_type": "execute_result"
    },
    {
     "data": {
      "text/plain": [
       "7015361526"
      ]
     },
     "execution_count": 59,
     "metadata": {},
     "output_type": "execute_result"
    },
    {
     "data": {
      "text/html": [
       "<div>\n",
       "<style scoped>\n",
       "    .dataframe tbody tr th:only-of-type {\n",
       "        vertical-align: middle;\n",
       "    }\n",
       "\n",
       "    .dataframe tbody tr th {\n",
       "        vertical-align: top;\n",
       "    }\n",
       "\n",
       "    .dataframe thead th {\n",
       "        text-align: right;\n",
       "    }\n",
       "</style>\n",
       "<table border=\"1\" class=\"dataframe\">\n",
       "  <thead>\n",
       "    <tr style=\"text-align: right;\">\n",
       "      <th></th>\n",
       "      <th>OwnerUserId</th>\n",
       "      <th>CreationDate</th>\n",
       "      <th>ClosedDate</th>\n",
       "      <th>Score</th>\n",
       "      <th>Title</th>\n",
       "      <th>Body</th>\n",
       "      <th>Tag</th>\n",
       "    </tr>\n",
       "    <tr>\n",
       "      <th>Id</th>\n",
       "      <th></th>\n",
       "      <th></th>\n",
       "      <th></th>\n",
       "      <th></th>\n",
       "      <th></th>\n",
       "      <th></th>\n",
       "      <th></th>\n",
       "    </tr>\n",
       "  </thead>\n",
       "  <tbody>\n",
       "    <tr>\n",
       "      <th>80</th>\n",
       "      <td>26.0</td>\n",
       "      <td>2008-08-01T13:57:07Z</td>\n",
       "      <td>NaN</td>\n",
       "      <td>26</td>\n",
       "      <td>SQLStatement.execute() - multiple queries in o...</td>\n",
       "      <td>&lt;p&gt;I've written a database generation script i...</td>\n",
       "      <td>flex</td>\n",
       "    </tr>\n",
       "    <tr>\n",
       "      <th>80</th>\n",
       "      <td>26.0</td>\n",
       "      <td>2008-08-01T13:57:07Z</td>\n",
       "      <td>NaN</td>\n",
       "      <td>26</td>\n",
       "      <td>SQLStatement.execute() - multiple queries in o...</td>\n",
       "      <td>&lt;p&gt;I've written a database generation script i...</td>\n",
       "      <td>actionscript-3</td>\n",
       "    </tr>\n",
       "    <tr>\n",
       "      <th>80</th>\n",
       "      <td>26.0</td>\n",
       "      <td>2008-08-01T13:57:07Z</td>\n",
       "      <td>NaN</td>\n",
       "      <td>26</td>\n",
       "      <td>SQLStatement.execute() - multiple queries in o...</td>\n",
       "      <td>&lt;p&gt;I've written a database generation script i...</td>\n",
       "      <td>air</td>\n",
       "    </tr>\n",
       "    <tr>\n",
       "      <th>90</th>\n",
       "      <td>58.0</td>\n",
       "      <td>2008-08-01T14:41:24Z</td>\n",
       "      <td>2012-12-26T03:45:49Z</td>\n",
       "      <td>144</td>\n",
       "      <td>Good branching and merging tutorials for Torto...</td>\n",
       "      <td>&lt;p&gt;Are there any really good tutorials explain...</td>\n",
       "      <td>svn</td>\n",
       "    </tr>\n",
       "    <tr>\n",
       "      <th>90</th>\n",
       "      <td>58.0</td>\n",
       "      <td>2008-08-01T14:41:24Z</td>\n",
       "      <td>2012-12-26T03:45:49Z</td>\n",
       "      <td>144</td>\n",
       "      <td>Good branching and merging tutorials for Torto...</td>\n",
       "      <td>&lt;p&gt;Are there any really good tutorials explain...</td>\n",
       "      <td>tortoisesvn</td>\n",
       "    </tr>\n",
       "  </tbody>\n",
       "</table>\n",
       "</div>"
      ],
      "text/plain": [
       "    OwnerUserId          CreationDate            ClosedDate  Score  \\\n",
       "Id                                                                   \n",
       "80         26.0  2008-08-01T13:57:07Z                   NaN     26   \n",
       "80         26.0  2008-08-01T13:57:07Z                   NaN     26   \n",
       "80         26.0  2008-08-01T13:57:07Z                   NaN     26   \n",
       "90         58.0  2008-08-01T14:41:24Z  2012-12-26T03:45:49Z    144   \n",
       "90         58.0  2008-08-01T14:41:24Z  2012-12-26T03:45:49Z    144   \n",
       "\n",
       "                                                Title  \\\n",
       "Id                                                      \n",
       "80  SQLStatement.execute() - multiple queries in o...   \n",
       "80  SQLStatement.execute() - multiple queries in o...   \n",
       "80  SQLStatement.execute() - multiple queries in o...   \n",
       "90  Good branching and merging tutorials for Torto...   \n",
       "90  Good branching and merging tutorials for Torto...   \n",
       "\n",
       "                                                 Body             Tag  \n",
       "Id                                                                     \n",
       "80  <p>I've written a database generation script i...            flex  \n",
       "80  <p>I've written a database generation script i...  actionscript-3  \n",
       "80  <p>I've written a database generation script i...             air  \n",
       "90  <p>Are there any really good tutorials explain...             svn  \n",
       "90  <p>Are there any really good tutorials explain...     tortoisesvn  "
      ]
     },
     "execution_count": 59,
     "metadata": {},
     "output_type": "execute_result"
    }
   ],
   "source": [
    "df = questions.merge(tags, on='Id', how='left')\n",
    "questions.shape\n",
    "tags.shape\n",
    "df.shape\n",
    "df.memory_usage(deep=True).values.sum()\n",
    "df.head(5)\n",
    "del df # will remake later"
   ]
  },
  {
   "cell_type": "markdown",
   "id": "b9251fbc",
   "metadata": {},
   "source": [
    "It is too soon to merge, but it's memory impact is interesting\n",
    "\n",
    "Memory footprint of semi-preprocessed data is 7015361526, which is larger by 4578182664 because the two conponent are: 2164588901 & 272589961"
   ]
  },
  {
   "cell_type": "code",
   "execution_count": 60,
   "id": "b8648266",
   "metadata": {},
   "outputs": [
    {
     "name": "stdout",
     "output_type": "stream",
     "text": [
      "Number of questions 1264216\n",
      "Number of questions with score >= 1 is 594057\n"
     ]
    }
   ],
   "source": [
    "print(f'Number of questions {questions.shape[0]}') \n",
    "        # base  1264216\n",
    "min_score = 0 # 1185767\n",
    "min_score = 1 # 594057\n",
    "# min_score = 3 # 188015\n",
    "print(f'Number of questions with score >= {min_score} is {questions[questions[\"Score\"]>=min_score].shape[0]}')"
   ]
  },
  {
   "cell_type": "markdown",
   "id": "74f86f85",
   "metadata": {},
   "source": [
    "## Discarding low scored data\n",
    "Having a minimum score of 1 would eliminate half of data, relative to the total.\n",
    "\n",
    "I assume a score of 0 means the post was either ignored by the community and/or is _controversial_"
   ]
  },
  {
   "cell_type": "code",
   "execution_count": 61,
   "id": "ea871319",
   "metadata": {},
   "outputs": [
    {
     "name": "stdout",
     "output_type": "stream",
     "text": [
      "[DF size] questions shape before removing low scoring 1 data\n",
      "[DF size] questions shape after removing low scoring 1 data\n"
     ]
    },
    {
     "data": {
      "text/html": [
       "<div>\n",
       "<style scoped>\n",
       "    .dataframe tbody tr th:only-of-type {\n",
       "        vertical-align: middle;\n",
       "    }\n",
       "\n",
       "    .dataframe tbody tr th {\n",
       "        vertical-align: top;\n",
       "    }\n",
       "\n",
       "    .dataframe thead th {\n",
       "        text-align: right;\n",
       "    }\n",
       "</style>\n",
       "<table border=\"1\" class=\"dataframe\">\n",
       "  <thead>\n",
       "    <tr style=\"text-align: right;\">\n",
       "      <th></th>\n",
       "      <th>OwnerUserId</th>\n",
       "      <th>CreationDate</th>\n",
       "      <th>ClosedDate</th>\n",
       "      <th>Score</th>\n",
       "      <th>Title</th>\n",
       "      <th>Body</th>\n",
       "    </tr>\n",
       "    <tr>\n",
       "      <th>Id</th>\n",
       "      <th></th>\n",
       "      <th></th>\n",
       "      <th></th>\n",
       "      <th></th>\n",
       "      <th></th>\n",
       "      <th></th>\n",
       "    </tr>\n",
       "  </thead>\n",
       "  <tbody>\n",
       "    <tr>\n",
       "      <th>80</th>\n",
       "      <td>26.0</td>\n",
       "      <td>2008-08-01T13:57:07Z</td>\n",
       "      <td>NaN</td>\n",
       "      <td>26</td>\n",
       "      <td>SQLStatement.execute() - multiple queries in o...</td>\n",
       "      <td>&lt;p&gt;I've written a database generation script i...</td>\n",
       "    </tr>\n",
       "    <tr>\n",
       "      <th>90</th>\n",
       "      <td>58.0</td>\n",
       "      <td>2008-08-01T14:41:24Z</td>\n",
       "      <td>2012-12-26T03:45:49Z</td>\n",
       "      <td>144</td>\n",
       "      <td>Good branching and merging tutorials for Torto...</td>\n",
       "      <td>&lt;p&gt;Are there any really good tutorials explain...</td>\n",
       "    </tr>\n",
       "    <tr>\n",
       "      <th>120</th>\n",
       "      <td>83.0</td>\n",
       "      <td>2008-08-01T15:50:08Z</td>\n",
       "      <td>NaN</td>\n",
       "      <td>21</td>\n",
       "      <td>ASP.NET Site Maps</td>\n",
       "      <td>&lt;p&gt;Has anyone got experience creating &lt;strong&gt;...</td>\n",
       "    </tr>\n",
       "    <tr>\n",
       "      <th>180</th>\n",
       "      <td>2089740.0</td>\n",
       "      <td>2008-08-01T18:42:19Z</td>\n",
       "      <td>NaN</td>\n",
       "      <td>53</td>\n",
       "      <td>Function for creating color wheels</td>\n",
       "      <td>&lt;p&gt;This is something I've pseudo-solved many t...</td>\n",
       "    </tr>\n",
       "    <tr>\n",
       "      <th>260</th>\n",
       "      <td>91.0</td>\n",
       "      <td>2008-08-01T23:22:08Z</td>\n",
       "      <td>NaN</td>\n",
       "      <td>49</td>\n",
       "      <td>Adding scripting functionality to .NET applica...</td>\n",
       "      <td>&lt;p&gt;I have a little game written in C#. It uses...</td>\n",
       "    </tr>\n",
       "  </tbody>\n",
       "</table>\n",
       "</div>"
      ],
      "text/plain": [
       "     OwnerUserId          CreationDate            ClosedDate  Score  \\\n",
       "Id                                                                    \n",
       "80          26.0  2008-08-01T13:57:07Z                   NaN     26   \n",
       "90          58.0  2008-08-01T14:41:24Z  2012-12-26T03:45:49Z    144   \n",
       "120         83.0  2008-08-01T15:50:08Z                   NaN     21   \n",
       "180    2089740.0  2008-08-01T18:42:19Z                   NaN     53   \n",
       "260         91.0  2008-08-01T23:22:08Z                   NaN     49   \n",
       "\n",
       "                                                 Title  \\\n",
       "Id                                                       \n",
       "80   SQLStatement.execute() - multiple queries in o...   \n",
       "90   Good branching and merging tutorials for Torto...   \n",
       "120                                  ASP.NET Site Maps   \n",
       "180                 Function for creating color wheels   \n",
       "260  Adding scripting functionality to .NET applica...   \n",
       "\n",
       "                                                  Body  \n",
       "Id                                                      \n",
       "80   <p>I've written a database generation script i...  \n",
       "90   <p>Are there any really good tutorials explain...  \n",
       "120  <p>Has anyone got experience creating <strong>...  \n",
       "180  <p>This is something I've pseudo-solved many t...  \n",
       "260  <p>I have a little game written in C#. It uses...  "
      ]
     },
     "execution_count": 61,
     "metadata": {},
     "output_type": "execute_result"
    }
   ],
   "source": [
    "print(f'[DF size] questions shape before removing low scoring {min_score} data')\n",
    "questions = questions[questions[\"Score\"]>=min_score]\n",
    "print(f'[DF size] questions shape after removing low scoring {min_score} data')\n",
    "questions.head(5)\n",
    "\n",
    "# Sync IDs; discard tags with no questions\n",
    "questions_idx = questions.index.values\n",
    "tags = tags.loc[questions_idx]"
   ]
  },
  {
   "cell_type": "markdown",
   "id": "7d5701fc",
   "metadata": {},
   "source": [
    "### Plot Distribution of tags"
   ]
  },
  {
   "cell_type": "code",
   "execution_count": 62,
   "id": "cd46f242",
   "metadata": {},
   "outputs": [
    {
     "data": {
      "text/html": [
       "<div>\n",
       "<style scoped>\n",
       "    .dataframe tbody tr th:only-of-type {\n",
       "        vertical-align: middle;\n",
       "    }\n",
       "\n",
       "    .dataframe tbody tr th {\n",
       "        vertical-align: top;\n",
       "    }\n",
       "\n",
       "    .dataframe thead th {\n",
       "        text-align: right;\n",
       "    }\n",
       "</style>\n",
       "<table border=\"1\" class=\"dataframe\">\n",
       "  <thead>\n",
       "    <tr style=\"text-align: right;\">\n",
       "      <th></th>\n",
       "      <th>Tag</th>\n",
       "    </tr>\n",
       "  </thead>\n",
       "  <tbody>\n",
       "    <tr>\n",
       "      <th>count</th>\n",
       "      <td>1802266</td>\n",
       "    </tr>\n",
       "    <tr>\n",
       "      <th>unique</th>\n",
       "      <td>32057</td>\n",
       "    </tr>\n",
       "    <tr>\n",
       "      <th>top</th>\n",
       "      <td>java</td>\n",
       "    </tr>\n",
       "    <tr>\n",
       "      <th>freq</th>\n",
       "      <td>53895</td>\n",
       "    </tr>\n",
       "  </tbody>\n",
       "</table>\n",
       "</div>"
      ],
      "text/plain": [
       "            Tag\n",
       "count   1802266\n",
       "unique    32057\n",
       "top        java\n",
       "freq      53895"
      ]
     },
     "execution_count": 62,
     "metadata": {},
     "output_type": "execute_result"
    }
   ],
   "source": [
    "tags.describe()\n",
    "\n",
    "# # basic statistics\n",
    "# # tags.Tag.value_counts()\n",
    "# 100 * tags.Tag.value_counts()[0] / np.sum(tags.Tag.value_counts())\n",
    "# import seaborn as sns\n",
    "# _=plt.figure(figsize=(16,6));\n",
    "# _=plt.title(\"Questions Distribution According To Tags\");\n",
    "# _=sns.barplot(x=tags.Tag.value_counts().index.values[:101], y=tags.Tag.value_counts().values[:101]);\n",
    "# _=plt.xticks(rotation=90);\n",
    "# _=plt.ylabel(\"Number of questions\")\n",
    "# plt.savefig('Questions Distribution According To Tags.png')"
   ]
  },
  {
   "cell_type": "markdown",
   "id": "05175828",
   "metadata": {},
   "source": [
    "## Remove the tag with less than N training examples - as the dataset is spare in this sense"
   ]
  },
  {
   "cell_type": "code",
   "execution_count": 63,
   "id": "930cf137",
   "metadata": {},
   "outputs": [
    {
     "name": "stdout",
     "output_type": "stream",
     "text": [
      "Number of unique tags before removal 32058\n",
      "Number of unique tags after removal 101\n",
      "Amount of categories (tags) remaining 0.003151%\n",
      "Amount of data remaining 0.449453%\n",
      "\n",
      "Metrics tags counts\n",
      "Max 53895.00\n",
      "Min 2033.00\n",
      "Mean 8022.67\n",
      "Stddev 10899.97\n",
      "The top 50 tags ['java' 'javascript' 'c#' 'android' 'php' 'python' 'jquery' 'c++' 'html'\n",
      " 'ios' 'css' 'mysql' 'sql' '.net' 'asp.net' 'objective-c' 'ruby-on-rails'\n",
      " 'c' 'iphone' 'ruby' 'r' 'angularjs' 'sql-server' 'arrays' 'regex' 'json'\n",
      " 'asp.net-mvc' 'node.js' 'linux' 'xml' 'django' 'wpf' 'ajax' 'swift'\n",
      " 'windows' 'xcode' 'database' 'string' 'multithreading' 'git' 'eclipse'\n",
      " 'spring' 'html5' 'algorithm' 'performance' 'osx' 'bash' 'excel' 'vb.net'\n",
      " 'scala']\n"
     ]
    }
   ],
   "source": [
    "min_numb = 2000 # Number of unique tags after removal is 101, if min_score = 1.\n",
    "# min_numb = 624 # Number of unique tags after removal is 100+1, if min_score = 3.\n",
    "\n",
    "# tags.Tag.value_counts()\n",
    "print(f'Number of unique tags before removal {tags.Tag.unique().shape[0]}')\n",
    "\n",
    "counts = tags.Tag.value_counts()\n",
    "idx = (counts>=min_numb)\n",
    "if min_numb==624: idx['exception'] = True # found manaul via set difference \n",
    "idx = idx[np.where(idx)[0]].index\n",
    "\n",
    "uniques = tags[tags.Tag.isin(idx)].Tag.unique() # or tags.where(tags.Tag.isin(idx)).dropna()['Tag'].unique()\n",
    "print(f'Number of unique tags after removal {uniques.shape[0]}')\n",
    "print(f'Amount of categories (tags) remaining {uniques.shape[0]/counts.shape[0]:.6f}%')\n",
    "print(f'Amount of data remaining {tags[tags.Tag.isin(idx)].shape[0]/tags.shape[0]:.6f}%')\n",
    "tags = tags[tags.Tag.isin(idx)]\n",
    "counts = tags.Tag.value_counts()\n",
    "\n",
    "print(f'\\nMetrics tags counts')\n",
    "print(f'Max {counts.values.max():.2f}')\n",
    "print(f'Min {counts.values.min():.2f}')\n",
    "print(f'Mean {counts.values.mean():.2f}')\n",
    "print(f'Stddev {counts.values.std():.2f}')\n",
    "print(f'The top 50 tags {counts[:50].index.values}')"
   ]
  },
  {
   "cell_type": "markdown",
   "id": "db8a46c5",
   "metadata": {},
   "source": [
    "## Preprocess the questions\n",
    "### Remove excess questions (which have no considered tag), and unneeded `question` columns"
   ]
  },
  {
   "cell_type": "code",
   "execution_count": 64,
   "id": "904672be",
   "metadata": {},
   "outputs": [
    {
     "name": "stdout",
     "output_type": "stream",
     "text": [
      "Number of unique tags indices: 498996\n"
     ]
    },
    {
     "data": {
      "text/html": [
       "<div>\n",
       "<style scoped>\n",
       "    .dataframe tbody tr th:only-of-type {\n",
       "        vertical-align: middle;\n",
       "    }\n",
       "\n",
       "    .dataframe tbody tr th {\n",
       "        vertical-align: top;\n",
       "    }\n",
       "\n",
       "    .dataframe thead th {\n",
       "        text-align: right;\n",
       "    }\n",
       "</style>\n",
       "<table border=\"1\" class=\"dataframe\">\n",
       "  <thead>\n",
       "    <tr style=\"text-align: right;\">\n",
       "      <th></th>\n",
       "      <th>OwnerUserId</th>\n",
       "      <th>CreationDate</th>\n",
       "      <th>ClosedDate</th>\n",
       "      <th>Score</th>\n",
       "      <th>Title</th>\n",
       "      <th>Body</th>\n",
       "    </tr>\n",
       "    <tr>\n",
       "      <th>Id</th>\n",
       "      <th></th>\n",
       "      <th></th>\n",
       "      <th></th>\n",
       "      <th></th>\n",
       "      <th></th>\n",
       "      <th></th>\n",
       "    </tr>\n",
       "  </thead>\n",
       "  <tbody>\n",
       "    <tr>\n",
       "      <th>80</th>\n",
       "      <td>26.0</td>\n",
       "      <td>2008-08-01T13:57:07Z</td>\n",
       "      <td>NaN</td>\n",
       "      <td>26</td>\n",
       "      <td>SQLStatement.execute() - multiple queries in o...</td>\n",
       "      <td>&lt;p&gt;I've written a database generation script i...</td>\n",
       "    </tr>\n",
       "  </tbody>\n",
       "</table>\n",
       "</div>"
      ],
      "text/plain": [
       "    OwnerUserId          CreationDate ClosedDate  Score  \\\n",
       "Id                                                        \n",
       "80         26.0  2008-08-01T13:57:07Z        NaN     26   \n",
       "\n",
       "                                                Title  \\\n",
       "Id                                                      \n",
       "80  SQLStatement.execute() - multiple queries in o...   \n",
       "\n",
       "                                                 Body  \n",
       "Id                                                     \n",
       "80  <p>I've written a database generation script i...  "
      ]
     },
     "execution_count": 64,
     "metadata": {},
     "output_type": "execute_result"
    },
    {
     "name": "stdout",
     "output_type": "stream",
     "text": [
      "Number of questions before: (594057, 6)\n",
      "Number of questions after: (498996, 2)\n"
     ]
    }
   ],
   "source": [
    "# remove excess questions and columns\n",
    "print(f'Number of unique tags indices: {tags.index.nunique()}') # 1056968\n",
    "tags_idx = np.unique(tags.index.values)\n",
    "\n",
    "# check if the tags_idx are in the questions_idx\n",
    "assert(set(tags_idx) - set(questions.index.values) == set())\n",
    "\n",
    "questions.head(1)\n",
    "\n",
    "print(f'Number of questions before: {questions.shape}')\n",
    "questions = questions.loc[tags_idx]\n",
    "questions.drop(columns=['OwnerUserId', 'CreationDate', 'ClosedDate', 'Score'], inplace=True)\n",
    "print(f'Number of questions after: {questions.shape}')"
   ]
  },
  {
   "cell_type": "code",
   "execution_count": 65,
   "id": "d5209caa",
   "metadata": {},
   "outputs": [
    {
     "name": "stdout",
     "output_type": "stream",
     "text": [
      "\n",
      "raw text is \n",
      "<p>highcharts gets my hour time wrong</p>\n",
      "\n",
      "<p>I'm from venezuela just in case. I doing a real time system where I get in my db the time,seconds and miliseconds like\n",
      "10:39:09:2</p>\n",
      "\n",
      "<p>I apply the strtotime($time) then I sended by json to charted </p>\n",
      "\n",
      "<p>and in my highcharts i got in the </p>\n",
      "\n",
      "<pre><code>xAxis: {\n",
      "  type: 'datetime',\n",
      "  title: {\n",
      "    text: 'Tiempo'\n",
      "  }\n",
      "</code></pre>\n",
      "\n",
      "<p>the utc function is already false</p>\n",
      "\n",
      "<pre><code>Highcharts.setOptions({\n",
      "  global: {\n",
      "    useUTC: false\n",
      "  }\n",
      "});\n",
      "</code></pre>\n",
      "\n",
      "<p>and my function to get the json is </p>\n",
      "\n",
      "<pre><code>function requestData_Frecuencia() {\n",
      "  $.ajax({\n",
      "    url: 'Datos_Frecuencia.php',\n",
      "    success: function (point) {\n",
      "      var series = chart_Frecuencia.series[0],\n",
      "        shift = series.data.length &gt; 400;\n",
      "      //add point\n",
      "      chart_Frecuencia.series[0].addPoint(eval(point), true, shift);\n",
      "      setTimeout(requestData_Frecuencia, 500);\n",
      "    },\n",
      "    cache: false\n",
      "  });\n",
      "}\n",
      "</code></pre>\n",
      "\n",
      "<p>PS. is been a while since I write in english so forgive me if I write something wrong o that isn't clear.</p>\n",
      "\n",
      "\n",
      "preprocess text is \n",
      "highcharts gets my hour time wrong m from venezuela just in case doing real time system where get in my db the time seconds and miliseconds like apply the strtotime time then sended by json to charted and in my highcharts got in the xAxis type datetime title text Tiempo the utc function is already false Highcharts setOptions global useUTC false and my function to get the json is function requestData Frecuencia ajax url Datos Frecuencia php success function point var series chart Frecuencia series shift series data length add point chart Frecuencia series addPoint eval point true shift setTimeout requestData Frecuencia cache false PS is been while since write in english so forgive me if write something wrong that isn clear \n"
     ]
    }
   ],
   "source": [
    "## Run the below a few times to see the `Title` column. I did not see anything of concern.\n",
    "# questions.Title.sample(20)\n",
    "\n",
    "def preprocess_text(sentence):\n",
    "     # HTML decoding\n",
    "    sentence = BeautifulSoup(sentence, \"lxml\").get_text() #.text\n",
    "    \n",
    "    # Remove punctuations and numbers\n",
    "    # sentence = re.sub('[^a-zA-Z]', ' ', sentence)\n",
    "\n",
    "    # Single character removal\n",
    "    # sentence = re.sub(r\"\\s+[a-zA-Z]\\s+\", ' ', sentence)\n",
    "\n",
    "    # Removing multiple spaces\n",
    "    sentence = re.sub(r'\\s+', ' ', sentence)\n",
    "    # Trailing whitespace\n",
    "    sentence = re.sub(r'[ \\t]+(\\r?$)', ' ', sentence)\n",
    "    sentence = re.sub(r'[ \\t]+(\\r?$)', ' ', sentence)\n",
    "    return sentence\n",
    "\n",
    "# Test\n",
    "tmp = questions.Body.sample(1).values[0]\n",
    "\n",
    "print(f'\\nraw text is \\n{tmp}')\n",
    "print(f'\\npreprocess text is \\n{preprocess_text(tmp)}')"
   ]
  },
  {
   "cell_type": "code",
   "execution_count": 52,
   "id": "edf7376e",
   "metadata": {},
   "outputs": [],
   "source": [
    "# takes 5 mins to run\n",
    "add_space =[' ' for i in range(questions.Body.shape[0])] # add space, so we have \"foo bar\", not \"foobar\" \n",
    "questions['Formatted'] = questions.Title + add_space + questions.Body # concat title and body\n",
    "questions['Formatted'] = questions['Formatted'].apply(preprocess_text)\n",
    "\n",
    "questions.drop(columns=['Title', 'Body'], inplace=True)"
   ]
  },
  {
   "cell_type": "code",
   "execution_count": 53,
   "id": "2a64e833",
   "metadata": {},
   "outputs": [
    {
     "data": {
      "text/html": [
       "<div>\n",
       "<style scoped>\n",
       "    .dataframe tbody tr th:only-of-type {\n",
       "        vertical-align: middle;\n",
       "    }\n",
       "\n",
       "    .dataframe tbody tr th {\n",
       "        vertical-align: top;\n",
       "    }\n",
       "\n",
       "    .dataframe thead th {\n",
       "        text-align: right;\n",
       "    }\n",
       "</style>\n",
       "<table border=\"1\" class=\"dataframe\">\n",
       "  <thead>\n",
       "    <tr style=\"text-align: right;\">\n",
       "      <th></th>\n",
       "      <th>Formatted</th>\n",
       "    </tr>\n",
       "    <tr>\n",
       "      <th>Id</th>\n",
       "      <th></th>\n",
       "    </tr>\n",
       "  </thead>\n",
       "  <tbody>\n",
       "    <tr>\n",
       "      <th>120</th>\n",
       "      <td>ASP NET Site Maps Has anyone got experience cr...</td>\n",
       "    </tr>\n",
       "  </tbody>\n",
       "</table>\n",
       "</div>"
      ],
      "text/plain": [
       "                                             Formatted\n",
       "Id                                                    \n",
       "120  ASP NET Site Maps Has anyone got experience cr..."
      ]
     },
     "execution_count": 53,
     "metadata": {},
     "output_type": "execute_result"
    },
    {
     "data": {
      "text/html": [
       "<div>\n",
       "<style scoped>\n",
       "    .dataframe tbody tr th:only-of-type {\n",
       "        vertical-align: middle;\n",
       "    }\n",
       "\n",
       "    .dataframe tbody tr th {\n",
       "        vertical-align: top;\n",
       "    }\n",
       "\n",
       "    .dataframe thead th {\n",
       "        text-align: right;\n",
       "    }\n",
       "</style>\n",
       "<table border=\"1\" class=\"dataframe\">\n",
       "  <thead>\n",
       "    <tr style=\"text-align: right;\">\n",
       "      <th></th>\n",
       "      <th>Tag</th>\n",
       "    </tr>\n",
       "    <tr>\n",
       "      <th>Id</th>\n",
       "      <th></th>\n",
       "    </tr>\n",
       "  </thead>\n",
       "  <tbody>\n",
       "    <tr>\n",
       "      <th>120</th>\n",
       "      <td>sql</td>\n",
       "    </tr>\n",
       "  </tbody>\n",
       "</table>\n",
       "</div>"
      ],
      "text/plain": [
       "     Tag\n",
       "Id      \n",
       "120  sql"
      ]
     },
     "execution_count": 53,
     "metadata": {},
     "output_type": "execute_result"
    }
   ],
   "source": [
    "questions.head(1)\n",
    "questions.to_csv('./data/questions_preprocessed_min3.csv', index=True)\n",
    "tags.head(1)\n",
    "tags.to_csv('./data/tags_preprocessed_min3.csv', index=True)"
   ]
  },
  {
   "cell_type": "markdown",
   "id": "a4e44821",
   "metadata": {},
   "source": [
    "# Duplicate code"
   ]
  },
  {
   "cell_type": "code",
   "execution_count": 20,
   "id": "1b829b52",
   "metadata": {},
   "outputs": [
    {
     "data": {
      "text/plain": [
       "MultiLabelBinarizer()"
      ]
     },
     "execution_count": 20,
     "metadata": {},
     "output_type": "execute_result"
    },
    {
     "name": "stderr",
     "output_type": "stream",
     "text": [
      "100%|██████████| 498996/498996 [01:59<00:00, 4168.11it/s]\n"
     ]
    }
   ],
   "source": [
    "from sklearn.preprocessing import MultiLabelBinarizer\n",
    "mlb = MultiLabelBinarizer() # TODO sparse_output=True  I can add more classes\n",
    "\n",
    "list_to_encode = tags.Tag.values\n",
    "mlb.fit(list_to_encode.reshape(-1,1))\n",
    "# # MultiLabelBinarizer on the DataFrame, `mlb.fit(tags.Tag)`. Did not work as intended\n",
    "\n",
    "## faster to just recompute\n",
    "# if not os.path.exists('./data/encoded.pkl'):\n",
    "#     print('Encoding tags, then saving..')\n",
    "encoded = dict() # used later\n",
    "for i in tqdm(tags.index.unique()): \n",
    "    # went from 1750000 to 1050000 because I forgot to do only uniques\n",
    "    # 500,000 after I removed low voted posts\n",
    "    input_ = tags.loc[i, 'Tag']\n",
    "    if (type(input_) is str): # single value is of type string. \n",
    "        input_ = np.array(input_)\n",
    "    else:   \n",
    "        input_ = input_.values\n",
    "    \n",
    "    ouput_ = mlb.transform(input_.reshape(-1,1))\n",
    "    ouput_ = list(np.sum(ouput_, axis=0))\n",
    "    encoded[i] = ouput_\n",
    "#     pickle.dump(encoded, open('./data/encoded.pkl', 'wb'))\n",
    "# else:\n",
    "#     encoded = pickle.load(open('./data/encoded.pkl', 'rb')) 1751371"
   ]
  },
  {
   "cell_type": "code",
   "execution_count": 21,
   "id": "2b23521a",
   "metadata": {},
   "outputs": [
    {
     "name": "stderr",
     "output_type": "stream",
     "text": [
      "100%|██████████| 498996/498996 [00:02<00:00, 171339.43it/s]"
     ]
    },
    {
     "name": "stdout",
     "output_type": "stream",
     "text": [
      "length is 498996\n"
     ]
    },
    {
     "name": "stderr",
     "output_type": "stream",
     "text": [
      "\n"
     ]
    }
   ],
   "source": [
    "list_of_questions = []\n",
    "list_of_tags = []\n",
    "for i in tqdm(questions['Formatted'].index.unique()):\n",
    "    list_of_questions.append(questions['Formatted'][i])\n",
    "    list_of_tags.append(encoded[i])\n",
    "\n",
    "print(f'length is {len(list_of_questions)}')"
   ]
  },
  {
   "cell_type": "code",
   "execution_count": 22,
   "id": "2cfb5c7f",
   "metadata": {},
   "outputs": [],
   "source": [
    "## cases computer to run out of ram and go into paging. Despite my PC having 24gb. \n",
    "# np.save('./data/list_of_questions.npy', list_of_questions)\n",
    "# np.save('./data/list_of_tags.npy', list_of_tags)"
   ]
  },
  {
   "cell_type": "code",
   "execution_count": 23,
   "id": "54677cc5",
   "metadata": {},
   "outputs": [
    {
     "name": "stdout",
     "output_type": "stream",
     "text": [
      "                     questions: 539.2 MiB\n",
      "                          tags: 86.9 MiB\n",
      "                       encoded: 20.0 MiB\n",
      "                 questions_idx:  4.5 MiB\n",
      "             list_of_questions:  4.0 MiB\n",
      "                  list_of_tags:  4.0 MiB\n",
      "                      tags_idx:  3.8 MiB\n",
      "                           tmp: 10.3 KiB\n",
      "                            _8:  8.1 KiB\n",
      "                        counts:  7.1 KiB\n"
     ]
    },
    {
     "data": {
      "text/plain": [
       "0"
      ]
     },
     "execution_count": 23,
     "metadata": {},
     "output_type": "execute_result"
    }
   ],
   "source": [
    "def sizeof_fmt(num, suffix='B'):\n",
    "    ''' by Fred Cirera,  https://stackoverflow.com/a/1094933/1870254, modified'''\n",
    "    for unit in ['','Ki','Mi','Gi','Ti','Pi','Ei','Zi']:\n",
    "        if abs(num) < 1024.0:\n",
    "            return \"%3.1f %s%s\" % (num, unit, suffix)\n",
    "        num /= 1024.0\n",
    "    return \"%.1f %s%s\" % (num, 'Yi', suffix)\n",
    "\n",
    "for name, size in sorted(((name, sys.getsizeof(value)) for name, value in locals().items()),\n",
    "                         key= lambda x: -x[1])[:10]:\n",
    "    print(\"{:>30}: {:>8}\".format(name, sizeof_fmt(size)))\n",
    "\n",
    "gc.collect()"
   ]
  },
  {
   "cell_type": "code",
   "execution_count": 24,
   "id": "8d6ab68c",
   "metadata": {},
   "outputs": [
    {
     "name": "stdout",
     "output_type": "stream",
     "text": [
      "Sample question: ASP NET Site Maps Has anyone got experience creating SQL based ASP NET site map providers ve got the default XML file web sitemap working properly with my Menu and SiteMapPath controls but ll need way for the users of my site to create and modify pages dynamically need to tie page viewing permissions into the standard ASP NET membership system as well \n",
      "\n",
      "Number of tags: 2\n"
     ]
    }
   ],
   "source": [
    "print(f'Sample question: {list_of_questions[0]}\\n')\n",
    "print(f'Number of tags: {sum(list_of_tags[0])}')"
   ]
  },
  {
   "cell_type": "markdown",
   "id": "7279627f",
   "metadata": {},
   "source": [
    "### [optional] lemmatize"
   ]
  },
  {
   "cell_type": "code",
   "execution_count": null,
   "id": "c3a91aaf",
   "metadata": {},
   "outputs": [],
   "source": [
    "## dict based mapping... bad idea because foo must be a string in nlp(foo). it would be called vocab_size number of times\n",
    "# mapping = dict()\n",
    "# for doc in X_train:\n",
    "#     sentences = doc.split(' ')\n",
    "#     for word in sentences:\n",
    "#         mapping[word] = word\n",
    "# list_of_vocab = list(mapping.values())\n",
    "\n",
    "## Still very slow... \n",
    "# subset = X_train[0:100]\n",
    "# tmp = \" \".join([foo for foo in X_train]) \n",
    "# nlp = spacy.load('en_core_web_sm')\n",
    "# nlp.max_length = 1000000 * 10\n",
    "# doc = nlp(tmp)"
   ]
  },
  {
   "cell_type": "code",
   "execution_count": null,
   "id": "3c4f64ce",
   "metadata": {},
   "outputs": [],
   "source": [
    "# ## optional lemmatization \n",
    "# import spacy\n",
    "# nlp = spacy.load('en_core_web_sm')\n",
    "\n",
    "# # idx=20\n",
    "# # X_train[idx]\n",
    "# for i in tqdm(range(len(X_train))):\n",
    "#     doc = nlp(X_train[i])\n",
    "#     X_train[i] = \" \".join([token.lemma_ for token in doc]) \n",
    "# # X_train[idx]"
   ]
  },
  {
   "cell_type": "code",
   "execution_count": null,
   "id": "7b72da9d",
   "metadata": {},
   "outputs": [],
   "source": []
  },
  {
   "cell_type": "code",
   "execution_count": 81,
   "id": "335496db",
   "metadata": {},
   "outputs": [
    {
     "data": {
      "text/plain": [
       "10261"
      ]
     },
     "execution_count": 81,
     "metadata": {},
     "output_type": "execute_result"
    }
   ],
   "source": [
    "# uniqueWords = [] \n",
    "# for q in list_of_questions[:1000]:\n",
    "#     for word in q.split():\n",
    "#       if not word in uniqueWords:\n",
    "#           uniqueWords.append(word);\n",
    "          \n",
    "# len(uniqueWords)"
   ]
  }
 ],
 "metadata": {
  "kernelspec": {
   "display_name": "Python 3 (ipykernel)",
   "language": "python",
   "name": "python3"
  },
  "language_info": {
   "codemirror_mode": {
    "name": "ipython",
    "version": 3
   },
   "file_extension": ".py",
   "mimetype": "text/x-python",
   "name": "python",
   "nbconvert_exporter": "python",
   "pygments_lexer": "ipython3",
   "version": "3.9.7"
  }
 },
 "nbformat": 4,
 "nbformat_minor": 5
}
